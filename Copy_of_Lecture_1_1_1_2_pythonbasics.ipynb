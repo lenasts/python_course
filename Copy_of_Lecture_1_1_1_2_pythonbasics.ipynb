{
  "cells": [
    {
      "cell_type": "markdown",
      "metadata": {
        "id": "view-in-github",
        "colab_type": "text"
      },
      "source": [
        "<a href=\"https://colab.research.google.com/github/lenasts/python_course/blob/main/Copy_of_Lecture_1_1_1_2_pythonbasics.ipynb\" target=\"_parent\"><img src=\"https://colab.research.google.com/assets/colab-badge.svg\" alt=\"Open In Colab\"/></a>"
      ]
    },
    {
      "cell_type": "markdown",
      "metadata": {
        "id": "ic7C33zqSZ7T"
      },
      "source": [
        "# Про Python\n",
        "\n",
        "[Python](https://en.wikipedia.org/wiki/Python_%28programming_language%29) – це інтерпретована мова програмування високого рівня, створена голландським програмістом [Гвідо ван Россумом](https://en.wikipedia.org/wiki/Guido_van_Rossum) і випущений у 1991 році.\n",
        "\n",
        "Python набув великої популярності приблизно в 2006 році, і його популярність була зумовлена його красою та простотою у використанні для веб-розробки (його основний фреймворк для веб-розробки, [Django](https://www.djangoproject.com/), був випущений в 2006 році) . Після цього Python став одним з найпопулярніших скриптових мов. Скриптова мова програмування - це та, де код виконується \"на льоту\", його не треба \"компілювати\" (тобто \"збирати\" всю програму, перевіряти на помилки, перед тим, як можна буде запустити всю ту програму). Якщо в коді в Python є помилки, про це нам повідомляє інтерпритатор.\n",
        "\n",
        "\n",
        "## Python 3 та Python 2\n",
        "\n",
        "Існують дві версії основні версії Python: **Python 2** and **Python 3**.  \n",
        "Python 2 [перестав підтримуватись у 2020](https://pythonclock.org/). Але ви все ще можете знайти код під цю версію Python. Визначити такий код можна, наприклад, за наявностю виразів прінту без круглих дужок:\n",
        "```\n",
        "# python2\n",
        "print \"Привіт!\"\n",
        "```\n",
        "\n",
        "замість\n",
        "\n",
        "```\n",
        "# python3\n",
        "print(\"Привіт!\")\n",
        "```\n",
        "\n",
        "Тож, для сучасної розробки використовується тільки **Python 3** і ми будемо програмувати саме на ньому.  \n",
        "Перевірити встановлену версію Python у вас на комʼютері можна наступним чином."
      ]
    },
    {
      "cell_type": "code",
      "execution_count": null,
      "metadata": {
        "ExecuteTime": {
          "end_time": "2023-05-28T18:09:07.136231Z",
          "start_time": "2023-05-28T18:09:07.133121Z"
        },
        "id": "w9EsyBNcSZ7W"
      },
      "outputs": [],
      "source": [
        "import sys"
      ]
    },
    {
      "cell_type": "code",
      "execution_count": null,
      "metadata": {
        "ExecuteTime": {
          "end_time": "2023-05-28T18:09:58.458772Z",
          "start_time": "2023-05-28T18:09:58.444763Z"
        },
        "id": "I-DxQUWKSZ7X"
      },
      "outputs": [],
      "source": [
        "sys.version"
      ]
    },
    {
      "cell_type": "markdown",
      "metadata": {
        "id": "aBSTjXhMSZ7X"
      },
      "source": [
        "# Синтаксис Python"
      ]
    },
    {
      "cell_type": "markdown",
      "metadata": {
        "ExecuteTime": {
          "end_time": "2022-10-13T12:57:18.749065Z",
          "start_time": "2022-10-13T12:57:18.693813Z"
        },
        "id": "6WMPbv_TSZ7X"
      },
      "source": [
        "Якщо ви думаєте, що не вмієте програмувати на Python, ви помиляєтесь і зараз я вам це доведу :)"
      ]
    },
    {
      "cell_type": "markdown",
      "metadata": {
        "id": "dQa8KO1ESZ7X"
      },
      "source": [
        "Час написати наші перші рядки коду:"
      ]
    },
    {
      "cell_type": "code",
      "execution_count": null,
      "metadata": {
        "ExecuteTime": {
          "end_time": "2023-05-28T18:11:30.910623Z",
          "start_time": "2023-05-28T18:11:30.905548Z"
        },
        "id": "8MrA8e2cSZ7Y"
      },
      "outputs": [],
      "source": [
        "1 + 2"
      ]
    },
    {
      "cell_type": "code",
      "execution_count": null,
      "metadata": {
        "ExecuteTime": {
          "end_time": "2023-05-28T18:12:20.101458Z",
          "start_time": "2023-05-28T18:12:20.096816Z"
        },
        "id": "t12Qfo_PSZ7Y"
      },
      "outputs": [],
      "source": [
        "2 * 3 + 10"
      ]
    },
    {
      "cell_type": "markdown",
      "metadata": {
        "id": "j7TgjzoUSZ7Y"
      },
      "source": [
        "Пріоритет обчислень, в тому числі дужечки, тут працює як в математиці."
      ]
    },
    {
      "cell_type": "code",
      "execution_count": null,
      "metadata": {
        "ExecuteTime": {
          "end_time": "2023-05-28T18:12:43.984945Z",
          "start_time": "2023-05-28T18:12:43.979811Z"
        },
        "id": "3jBrZpKeSZ7Z"
      },
      "outputs": [],
      "source": [
        "(10 + 14) / 3 + 5 * 2"
      ]
    },
    {
      "cell_type": "markdown",
      "metadata": {
        "id": "W5mTnlZySZ7Z"
      },
      "source": [
        "Бінго! Ви вже можете користуватись Python як калькулятором!"
      ]
    },
    {
      "cell_type": "markdown",
      "metadata": {
        "id": "RpI6wyk8SZ7Z"
      },
      "source": [
        "### Змінні і типи даних\n",
        "\n",
        "Змінні (англійською \"variables\") використовуються для зберігання значень. Змінні можуть мати довільну назву, яка складається з літер, цифр і нижніх підкреслень.\n",
        "\n",
        "У Python ви можете створити змінну будь-коли, у будь-якому блоці коду, просто присвоївши певному допустимому імені будь-яке значення:"
      ]
    },
    {
      "cell_type": "code",
      "execution_count": null,
      "metadata": {
        "ExecuteTime": {
          "end_time": "2023-05-28T18:14:28.214551Z",
          "start_time": "2023-05-28T18:14:28.211657Z"
        },
        "id": "VWvOXllZSZ7Z"
      },
      "outputs": [],
      "source": [
        "name = \"Mary\"\n",
        "age = 30\n",
        "height = 1.67\n",
        "is_ukrainian = False"
      ]
    },
    {
      "cell_type": "code",
      "execution_count": null,
      "metadata": {
        "ExecuteTime": {
          "end_time": "2023-05-28T18:22:04.490659Z",
          "start_time": "2023-05-28T18:22:04.486212Z"
        },
        "id": "KOt4LzaSSZ7Z"
      },
      "outputs": [],
      "source": [
        "is_ukrainian"
      ]
    },
    {
      "cell_type": "code",
      "execution_count": null,
      "metadata": {
        "ExecuteTime": {
          "end_time": "2023-05-28T18:16:05.744602Z",
          "start_time": "2023-05-28T18:16:05.740420Z"
        },
        "id": "okLZalDISZ7Z"
      },
      "outputs": [],
      "source": [
        "type(name)"
      ]
    },
    {
      "cell_type": "code",
      "execution_count": null,
      "metadata": {
        "ExecuteTime": {
          "end_time": "2023-05-28T18:16:41.210021Z",
          "start_time": "2023-05-28T18:16:41.202762Z"
        },
        "id": "NLdwtrHoSZ7Z"
      },
      "outputs": [],
      "source": [
        "type(age), type(height), type(is_ukrainian)"
      ]
    },
    {
      "cell_type": "code",
      "execution_count": null,
      "metadata": {
        "ExecuteTime": {
          "end_time": "2023-05-28T18:21:09.309964Z",
          "start_time": "2023-05-28T18:21:09.301885Z"
        },
        "id": "UiTa55tpSZ7a"
      },
      "outputs": [],
      "source": [
        "display(type(age), type(height), type(is_ukrainian))"
      ]
    },
    {
      "cell_type": "markdown",
      "metadata": {
        "id": "l8F2xeB2SZ7a"
      },
      "source": [
        "Після визначення змінної, вона буде зберігати те значення, яке ми їй присвоїли:"
      ]
    },
    {
      "cell_type": "code",
      "execution_count": null,
      "metadata": {
        "ExecuteTime": {
          "end_time": "2023-05-28T18:22:24.946608Z",
          "start_time": "2023-05-28T18:22:24.943601Z"
        },
        "id": "M7gu6sSoSZ7a"
      },
      "outputs": [],
      "source": [
        "print(name, \"is\", age, \"years old\")"
      ]
    },
    {
      "cell_type": "markdown",
      "metadata": {
        "id": "iNX6ef3HSZ7a"
      },
      "source": [
        "Поки ми не змінимо це значення:"
      ]
    },
    {
      "cell_type": "code",
      "execution_count": null,
      "metadata": {
        "ExecuteTime": {
          "end_time": "2023-05-28T18:23:44.597984Z",
          "start_time": "2023-05-28T18:23:44.595029Z"
        },
        "id": "IMrCQWxMSZ7a"
      },
      "outputs": [],
      "source": [
        "age = age + 1"
      ]
    },
    {
      "cell_type": "code",
      "execution_count": null,
      "metadata": {
        "ExecuteTime": {
          "end_time": "2023-05-28T18:23:46.790911Z",
          "start_time": "2023-05-28T18:23:46.786477Z"
        },
        "id": "Lj4iY4QFSZ7a"
      },
      "outputs": [],
      "source": [
        "age"
      ]
    },
    {
      "cell_type": "code",
      "execution_count": null,
      "metadata": {
        "ExecuteTime": {
          "end_time": "2023-05-28T18:23:54.366687Z",
          "start_time": "2023-05-28T18:23:54.363219Z"
        },
        "id": "WvzyXFkWSZ7a"
      },
      "outputs": [],
      "source": [
        "print(\"Happy birthday!\", name, \"is\", age, \"years old\")"
      ]
    },
    {
      "cell_type": "markdown",
      "metadata": {
        "id": "LZA2i1vaSZ7a"
      },
      "source": [
        "При визначенні назв змінних в Python треба дотримуватись наступниз правил:\n",
        "\n",
        "1. Назва може містити тільки літери (a-z, A-Z), цифри (0-9) або символ нижнього підкреслення (_). Зверніть увагу, що ви не можете починати назву змінної з цифри.\n",
        "\n",
        "2. Python розрізняє великі та малі літери, тому Variable, VARIABLE, та variable будуть різними змінними.\n",
        "\n",
        "3. Ви не можете використовувати зарезервовані слова Python як назви змінних. Зарезервованими словами є такі, як for, if, and, or, while, def, import, from, as, break, return тощо.\n",
        "Зарезервоване слово - це якась команда з Python. Якщо ми визначимо змінну з назвою, яка така сама, як і зарезервоване слово, ми перевизначимо функціонал відповідної команди в Python. Так що зарезервованому слову ми присвоїти значення не можемо.\n",
        "\n",
        "4. Назва змінної повинна бути описовою, тобто відображати суть даних, які вона зберігає.\n",
        "\n",
        "Приклади:"
      ]
    },
    {
      "cell_type": "code",
      "execution_count": null,
      "metadata": {
        "ExecuteTime": {
          "end_time": "2023-05-28T18:25:01.161651Z",
          "start_time": "2023-05-28T18:25:01.156874Z"
        },
        "id": "519xQRzGSZ7a"
      },
      "outputs": [],
      "source": [
        "variable = 15"
      ]
    },
    {
      "cell_type": "code",
      "execution_count": null,
      "metadata": {
        "ExecuteTime": {
          "end_time": "2023-05-28T18:27:39.925836Z",
          "start_time": "2023-05-28T18:27:39.921951Z"
        },
        "id": "0ecJutEjSZ7a"
      },
      "outputs": [],
      "source": [
        "variable"
      ]
    },
    {
      "cell_type": "code",
      "execution_count": null,
      "metadata": {
        "ExecuteTime": {
          "end_time": "2023-05-28T18:30:50.483028Z",
          "start_time": "2023-05-28T18:30:50.480065Z"
        },
        "id": "CqKOLg46SZ7a"
      },
      "outputs": [],
      "source": [
        "# Правильні назви змінних\n",
        "my_variable = 10\n",
        "variable1 = \"Hello, World!\"\n",
        "_variable = 3.14159\n",
        "name_with_underscores = \"Python\"\n",
        "STUDENT_NAME = \"Alex\""
      ]
    },
    {
      "cell_type": "code",
      "execution_count": null,
      "metadata": {
        "ExecuteTime": {
          "end_time": "2023-05-28T18:31:54.420422Z",
          "start_time": "2023-05-28T18:31:54.415668Z"
        },
        "id": "FB6tWRtBSZ7b"
      },
      "outputs": [],
      "source": [
        "my_variable, variable1, _variable, name_with_underscores, STUDENT_NAME"
      ]
    },
    {
      "cell_type": "code",
      "execution_count": null,
      "metadata": {
        "ExecuteTime": {
          "end_time": "2023-05-28T18:34:24.130262Z",
          "start_time": "2023-05-28T18:34:24.127036Z"
        },
        "id": "bEkkazjbSZ7b"
      },
      "outputs": [],
      "source": [
        "# Неправильні назви змінних\n",
        "1variable = 10  # починається з цифри"
      ]
    },
    {
      "cell_type": "code",
      "execution_count": null,
      "metadata": {
        "ExecuteTime": {
          "end_time": "2023-05-28T18:34:22.166168Z",
          "start_time": "2023-05-28T18:34:22.161794Z"
        },
        "id": "m4yhuB5eSZ7b"
      },
      "outputs": [],
      "source": [
        "for = 20  # використано зарезервоване слово"
      ]
    },
    {
      "cell_type": "code",
      "execution_count": null,
      "metadata": {
        "ExecuteTime": {
          "end_time": "2023-05-28T18:34:27.789840Z",
          "start_time": "2023-05-28T18:34:27.786264Z"
        },
        "id": "r3Dc567SSZ7b"
      },
      "outputs": [],
      "source": [
        "my-variable = \"Invalid\"  # містить недопустимий символ (-)"
      ]
    },
    {
      "cell_type": "markdown",
      "metadata": {
        "id": "V0CYUGqQSZ7b"
      },
      "source": [
        "Приклад описової назви зміннох і ні:"
      ]
    },
    {
      "cell_type": "code",
      "execution_count": null,
      "metadata": {
        "ExecuteTime": {
          "end_time": "2023-05-28T18:37:57.944160Z",
          "start_time": "2023-05-28T18:37:57.940089Z"
        },
        "id": "SLv1D5sJSZ7b"
      },
      "outputs": [],
      "source": [
        "# поганий неймінг і погано надавати вже існуючій змінній нзовсім нове за змістом значення\n",
        "t = 19\n",
        "# ...\n",
        "# t = celcius_to_fahrenheit(t)\n",
        "\n",
        "# коли напишемо так, то навіть пояснювати в коментарях не треба, що це за змінна\n",
        "temp_celc = 19\n",
        "# ...\n",
        "# temp_fahr = celcius_to_fahrenheit(temp_celc)"
      ]
    },
    {
      "cell_type": "markdown",
      "metadata": {
        "id": "v4r6tkBHSZ7b"
      },
      "source": [
        "В робочих проєтах ЗАВЖДИ одразу використовуйте описові назви змінних.\n",
        "\n",
        "**Але** в прикладах під час навчання будемо іноді використовувати короткі назви для простоти, а також бо вони є універсальними і не несуть жодної бізнес логіки, потрібні лише для пояснень концепцій.\n",
        "\n",
        "А так можна перевірити, чи ця назва не є зарезервованим словом."
      ]
    },
    {
      "cell_type": "code",
      "execution_count": null,
      "metadata": {
        "ExecuteTime": {
          "end_time": "2023-05-28T18:42:15.419448Z",
          "start_time": "2023-05-28T18:42:15.414666Z"
        },
        "id": "ToKY0H_TSZ7b"
      },
      "outputs": [],
      "source": [
        "from keyword import iskeyword\n",
        "\n",
        "print('hello'.isidentifier(), iskeyword('hello'))\n",
        "\n",
        "print('def'.isidentifier(), iskeyword('def'))"
      ]
    },
    {
      "cell_type": "markdown",
      "metadata": {
        "id": "Gef3I0NESZ7b"
      },
      "source": [
        "### Коментарі\n",
        "Коментарі в Python, як і в будь-якій іншій мові програмування, використовуються для наступного:\n",
        "\n",
        "- Документація коду: Коментарі допомагають розробникам пояснити, що робить окремий фрагмент коду. Це може бути корисно для будь-кого, хто читає код, включаючи самого автора в майбутньому.\n",
        "\n",
        "- Пояснення використання певних методів\n",
        "\n",
        "- Відладка (debugging): Іноді розробники використовують коментарі для тимчасового відключення певних частин коду під час відладки.\n",
        "\n",
        "Ви вже бачили коментарі в попередніх блоках коду - вони починаються з хештегу або оточені потрійними лапками.\n"
      ]
    },
    {
      "cell_type": "code",
      "execution_count": null,
      "metadata": {
        "ExecuteTime": {
          "end_time": "2023-05-28T18:45:25.801724Z",
          "start_time": "2023-05-28T18:45:25.797022Z"
        },
        "id": "Enoh0cNdSZ7b"
      },
      "outputs": [],
      "source": [
        "# це коментар\n",
        "a = 11\n",
        "\"\"\"\n",
        "це\n",
        "багаторядковий\n",
        "коментар\n",
        "a = a + 1\n",
        "\"\"\"\n",
        "b = 12\n",
        "a, b"
      ]
    },
    {
      "cell_type": "code",
      "execution_count": null,
      "metadata": {
        "ExecuteTime": {
          "end_time": "2023-05-28T18:45:43.473101Z",
          "start_time": "2023-05-28T18:45:43.469287Z"
        },
        "id": "C8pedcUZSZ7b"
      },
      "outputs": [],
      "source": [
        "# коментарі можуть розташовуватись зверху блоку коду\n",
        "print(\"Hello World!\")  # після блоку коду\n",
        "# під блоком коду"
      ]
    },
    {
      "cell_type": "code",
      "execution_count": null,
      "metadata": {
        "ExecuteTime": {
          "end_time": "2023-05-28T18:46:06.998176Z",
          "start_time": "2023-05-28T18:46:06.994951Z"
        },
        "id": "KdGSNwXiSZ7c"
      },
      "outputs": [],
      "source": [
        "a = 11  # sdaaada"
      ]
    },
    {
      "cell_type": "code",
      "execution_count": null,
      "metadata": {
        "ExecuteTime": {
          "end_time": "2023-05-28T18:47:52.428006Z",
          "start_time": "2023-05-28T18:47:52.425344Z"
        },
        "id": "xfA2UrBeSZ7f"
      },
      "outputs": [],
      "source": [
        "del b"
      ]
    },
    {
      "cell_type": "code",
      "execution_count": null,
      "metadata": {
        "ExecuteTime": {
          "end_time": "2023-05-28T18:47:59.383705Z",
          "start_time": "2023-05-28T18:47:59.366742Z"
        },
        "id": "jYuPoVuYSZ7f"
      },
      "outputs": [],
      "source": [
        "a = 1\n",
        "# b = 2 # коли код закоментований - він не виконується.\n",
        "# a = a + b\n",
        "# a = a + 1\n",
        "b = 10\n",
        "a, b"
      ]
    },
    {
      "cell_type": "markdown",
      "metadata": {
        "id": "LPctWWMtSZ7f"
      },
      "source": [
        "## Операції над типами даних"
      ]
    },
    {
      "cell_type": "markdown",
      "metadata": {
        "id": "aIPjiK0QSZ7g"
      },
      "source": [
        "### Основні математичні операції в Python\n",
        "Python підтримує основні математичні операції, включаючи додавання, віднімання, множення, ділення та модуль числа."
      ]
    },
    {
      "cell_type": "code",
      "execution_count": null,
      "metadata": {
        "ExecuteTime": {
          "end_time": "2023-05-28T18:49:29.418843Z",
          "start_time": "2023-05-28T18:49:29.412840Z"
        },
        "id": "QOE-FB7VSZ7g"
      },
      "outputs": [],
      "source": [
        "a = 10\n",
        "b = 3\n",
        "\n",
        "c = a + b\n",
        "d = a - b\n",
        "e = a * b\n",
        "f = a / b\n",
        "g = a % b\n",
        "h = a // b\n",
        "i = a ** 3"
      ]
    },
    {
      "cell_type": "code",
      "execution_count": null,
      "metadata": {
        "ExecuteTime": {
          "end_time": "2023-05-28T18:49:46.467737Z",
          "start_time": "2023-05-28T18:49:46.463953Z"
        },
        "id": "w6_iVbwfSZ7g"
      },
      "outputs": [],
      "source": [
        "print(a, b, c, d, e, f, g, h, i)"
      ]
    },
    {
      "cell_type": "code",
      "execution_count": null,
      "metadata": {
        "ExecuteTime": {
          "end_time": "2023-05-28T18:49:47.588577Z",
          "start_time": "2023-05-28T18:49:47.573507Z"
        },
        "id": "kHfclRY6SZ7g"
      },
      "outputs": [],
      "source": [
        "display(a, b, c, d, e, f, g, h, i)"
      ]
    },
    {
      "cell_type": "markdown",
      "metadata": {
        "id": "-Prs9m9RSZ7g"
      },
      "source": [
        "### Рядки, тип `str`\n",
        "\n",
        "Рядки використовуються для зберігання тексту. Технічно це _\"незмінні послідовності кодових точок Unicode\"_. Python 3 по замовчанню всі рядки кодує в Unicode.  \n",
        "_Unicode_ - УНІфіковане КОДування — міжнародний стандарт кодування для використання з різними мовами світу та шрифтами, за яким кожній літері, цифрі чи символу присвоюється унікальне числове значення, яке застосовується у різних платформах і програмах. Тобто формат універсальний і ми можемо писати в рядках все, що хочемо."
      ]
    },
    {
      "cell_type": "code",
      "execution_count": null,
      "metadata": {
        "ExecuteTime": {
          "end_time": "2023-05-28T18:54:46.388529Z",
          "start_time": "2023-05-28T18:54:46.382827Z"
        },
        "id": "3wiN8HZrSZ7g"
      },
      "outputs": [],
      "source": [
        "# Можемо поміщати рядки в подвійні лапки\n",
        "print(\"Hello unicode 👋\")"
      ]
    },
    {
      "cell_type": "markdown",
      "metadata": {
        "ExecuteTime": {
          "end_time": "2022-10-15T21:13:36.784274Z",
          "start_time": "2022-10-15T21:13:36.776483Z"
        },
        "id": "tbl2V88NSZ7g"
      },
      "source": [
        "Щодо \"незмінності\": str тип в Python є immutable (тобто незмінним) і якщо ми змінюємо текст, то він вже знаходиться в іншому місці памʼяті:"
      ]
    },
    {
      "cell_type": "code",
      "execution_count": null,
      "metadata": {
        "ExecuteTime": {
          "end_time": "2023-05-28T18:57:33.915181Z",
          "start_time": "2023-05-28T18:57:33.912301Z"
        },
        "id": "DLdOStTFSZ7g"
      },
      "outputs": [],
      "source": [
        "x = \"Hello\""
      ]
    },
    {
      "cell_type": "code",
      "execution_count": null,
      "metadata": {
        "ExecuteTime": {
          "end_time": "2023-05-28T18:57:34.389306Z",
          "start_time": "2023-05-28T18:57:34.382753Z"
        },
        "id": "4kcxS8StSZ7g"
      },
      "outputs": [],
      "source": [
        "hex(id(x))"
      ]
    },
    {
      "cell_type": "code",
      "execution_count": null,
      "metadata": {
        "ExecuteTime": {
          "end_time": "2023-05-28T18:57:34.865215Z",
          "start_time": "2023-05-28T18:57:34.859014Z"
        },
        "id": "sTSIhVmMSZ7g"
      },
      "outputs": [],
      "source": [
        "x = x + \"a\"\n",
        "x"
      ]
    },
    {
      "cell_type": "code",
      "execution_count": null,
      "metadata": {
        "ExecuteTime": {
          "end_time": "2023-05-28T18:57:35.880960Z",
          "start_time": "2023-05-28T18:57:35.876753Z"
        },
        "id": "CgZRozDWSZ7g"
      },
      "outputs": [],
      "source": [
        "hex(id(x))"
      ]
    },
    {
      "cell_type": "code",
      "execution_count": null,
      "metadata": {
        "ExecuteTime": {
          "end_time": "2023-05-28T18:57:37.605391Z",
          "start_time": "2023-05-28T18:57:37.600938Z"
        },
        "id": "Hs7YTDMhSZ7h"
      },
      "outputs": [],
      "source": [
        "x += \"a\"\n",
        "x"
      ]
    },
    {
      "cell_type": "markdown",
      "metadata": {
        "ExecuteTime": {
          "end_time": "2022-10-15T20:59:26.756088Z",
          "start_time": "2022-10-15T20:59:26.722200Z"
        },
        "id": "hx5QXVAFSZ7h"
      },
      "source": [
        "Якщо б нам захотілось подивитись, яким числом закодований емоджі:"
      ]
    },
    {
      "cell_type": "code",
      "execution_count": null,
      "metadata": {
        "ExecuteTime": {
          "end_time": "2023-05-28T18:57:52.142688Z",
          "start_time": "2023-05-28T18:57:52.138178Z"
        },
        "id": "x9SHMCRVSZ7h"
      },
      "outputs": [],
      "source": [
        "ord('👋')"
      ]
    },
    {
      "cell_type": "markdown",
      "metadata": {
        "ExecuteTime": {
          "end_time": "2022-10-15T20:59:40.355573Z",
          "start_time": "2022-10-15T20:59:40.340495Z"
        },
        "id": "VbKDHpteSZ7h"
      },
      "source": [
        "а ось, обернена операція:"
      ]
    },
    {
      "cell_type": "code",
      "execution_count": null,
      "metadata": {
        "ExecuteTime": {
          "end_time": "2023-05-28T18:58:03.990172Z",
          "start_time": "2023-05-28T18:58:03.985143Z"
        },
        "id": "pY0mYZ-rSZ7h"
      },
      "outputs": [],
      "source": [
        "chr(128075)"
      ]
    },
    {
      "cell_type": "markdown",
      "metadata": {
        "id": "rOGXHUgESZ7h"
      },
      "source": [
        "#### Лапки для рядків"
      ]
    },
    {
      "cell_type": "markdown",
      "metadata": {
        "id": "iq1YQi5YSZ7h"
      },
      "source": [
        "Python підтримує рядки, огорнуті в одинарні ('), подвійні (\") і потрійні (''' або \"\"\") лапки. Це може бути дуже зручно з різних причин:\n",
        "\n",
        "1. Включення одного типу лапок в рядок іншого типу: Якщо ви хочете включити лапки в рядок,   \n",
        "   ви можете використовувати інший тип лапок для визначення рядка.\n",
        "   Приклад:"
      ]
    },
    {
      "cell_type": "code",
      "execution_count": null,
      "metadata": {
        "ExecuteTime": {
          "end_time": "2023-05-28T18:59:15.794752Z",
          "start_time": "2023-05-28T18:59:15.791248Z"
        },
        "id": "oCdgZlU7SZ7h"
      },
      "outputs": [],
      "source": [
        "quote = \"Лінус Торвальдс сказав: 'Talk is cheap. Show me the code.'\""
      ]
    },
    {
      "cell_type": "code",
      "execution_count": null,
      "metadata": {
        "ExecuteTime": {
          "end_time": "2023-05-28T18:59:21.812667Z",
          "start_time": "2023-05-28T18:59:21.808891Z"
        },
        "id": "NVkKY6AlSZ7h"
      },
      "outputs": [],
      "source": [
        "quote"
      ]
    },
    {
      "cell_type": "code",
      "execution_count": null,
      "metadata": {
        "ExecuteTime": {
          "end_time": "2023-05-28T19:00:21.411140Z",
          "start_time": "2023-05-28T19:00:21.406484Z"
        },
        "id": "0pjkXsHQSZ7h"
      },
      "outputs": [],
      "source": [
        "'Лінус Торвальдс сказав: \"Talk is cheap. Show me the code.\"'"
      ]
    },
    {
      "cell_type": "code",
      "execution_count": null,
      "metadata": {
        "ExecuteTime": {
          "end_time": "2023-05-28T19:01:03.887091Z",
          "start_time": "2023-05-28T19:01:03.883015Z"
        },
        "id": "wQCeWplKSZ7h"
      },
      "outputs": [],
      "source": [
        "\"This is sentence\" == 'This is sentence'"
      ]
    },
    {
      "cell_type": "markdown",
      "metadata": {
        "id": "ePC80qmNSZ7i"
      },
      "source": [
        "   У цьому прикладі, щоб включити одинарні лапки в рядок, ми використали подвійні лапки для визначення рядка.\n",
        "\n",
        "2. Багаторядкові рядки: Потрійні лапки дозволяють вам визначати багаторядкові рядки.  \n",
        "   Приклад:"
      ]
    },
    {
      "cell_type": "code",
      "execution_count": null,
      "metadata": {
        "ExecuteTime": {
          "end_time": "2023-05-28T19:02:26.777147Z",
          "start_time": "2023-05-28T19:02:26.774466Z"
        },
        "id": "pNF4BXprSZ7i"
      },
      "outputs": [],
      "source": [
        "long_string = \"\"\"Цей рядок\n",
        "охоплює декілька\n",
        "рядків.\"\"\""
      ]
    },
    {
      "cell_type": "code",
      "execution_count": null,
      "metadata": {
        "ExecuteTime": {
          "end_time": "2023-05-28T19:02:27.917890Z",
          "start_time": "2023-05-28T19:02:27.914778Z"
        },
        "id": "_PMqnKT8SZ7i"
      },
      "outputs": [],
      "source": [
        "print(long_string)"
      ]
    },
    {
      "cell_type": "markdown",
      "metadata": {
        "id": "XkAbslerSZ7i"
      },
      "source": [
        "3. Docstrings: Потрійні лапки також використовуються для створення документаційних рядків (docstrings) в Python. Приклад:        "
      ]
    },
    {
      "cell_type": "code",
      "execution_count": null,
      "metadata": {
        "id": "vzXI1p5SSZ7i"
      },
      "outputs": [],
      "source": [
        "def my_function():\n",
        "    \"\"\"Це документаційний рядок (docstring) для моєї функції.\"\"\"\n",
        "    pass"
      ]
    },
    {
      "cell_type": "markdown",
      "metadata": {
        "id": "7i2nat8BSZ7i"
      },
      "source": [
        "Важливо зауважити, що Python не розрізняє одинарні та подвійні лапки для визначення звичайних рядків - це просто питання стилю.  \n",
        "Деякі розробники вважають, що одинарні лапки виглядають чистіше, тоді як інші вважають, що подвійні лапки допомагають рядкам виділятися на тлі коду."
      ]
    },
    {
      "cell_type": "markdown",
      "metadata": {
        "id": "iKVcFDANSZ7i"
      },
      "source": [
        "#### Методи рядків\n",
        "Їх є багато, всі можна переглянути в офіційній документації Python - [Text Sequence Type](https://docs.python.org/3/library/stdtypes.html#text-sequence-type-str). Найбільш часто вживані:\n",
        "\n",
        "- `s.lower()`: Перетворює всі символи рядка на малі літери.\n",
        "- `s.upper()`: Перетворює всі символи рядка на великі літери.\n",
        "- `s.strip()`: Видаляє пробіли на початку та в кінці рядка.\n",
        "- `s.startswith(substring)`: Перевіряє, чи починається рядок з певного підрядка.\n",
        "- `s.endswith(substring)`: Перевіряє, чи закінчується рядок певним підрядком.\n",
        "- `s.find(substring)`: Повертає індекс першого знайденого підрядка або `-1`, якщо підрядок не знайдено.\n",
        "- `s.replace(old, new)`: Замінює всі входження підрядка `old` на `new`.\n",
        "- `s.split(separator)`: Розділяє рядок на список підрядків за заданим розділювачем.\n",
        "- `s.join(list)`: Об'єднує всі елементи списку в один рядок, використовуючи рядок `s` як розділювач."
      ]
    },
    {
      "cell_type": "code",
      "execution_count": null,
      "metadata": {
        "ExecuteTime": {
          "end_time": "2023-05-28T19:04:12.990016Z",
          "start_time": "2023-05-28T19:04:12.987033Z"
        },
        "id": "OApagtLjSZ7i"
      },
      "outputs": [],
      "source": [
        "s = 'We are learning Python!'"
      ]
    },
    {
      "cell_type": "code",
      "execution_count": null,
      "metadata": {
        "ExecuteTime": {
          "end_time": "2023-05-28T19:04:34.791895Z",
          "start_time": "2023-05-28T19:04:34.787470Z"
        },
        "id": "ojYrC_-QSZ7i"
      },
      "outputs": [],
      "source": [
        "print(len(s))\n",
        "print(s.lower())\n",
        "print(s.upper())"
      ]
    },
    {
      "cell_type": "code",
      "execution_count": null,
      "metadata": {
        "ExecuteTime": {
          "end_time": "2023-05-28T19:04:53.795055Z",
          "start_time": "2023-05-28T19:04:53.791292Z"
        },
        "id": "nfnsJfh8SZ7i"
      },
      "outputs": [],
      "source": [
        "print(s.startswith(\"We\"))\n",
        "print(s.startswith(\"we\"))\n",
        "print(s.endswith(\"!\"))"
      ]
    },
    {
      "cell_type": "code",
      "execution_count": null,
      "metadata": {
        "ExecuteTime": {
          "end_time": "2023-05-28T19:05:16.654643Z",
          "start_time": "2023-05-28T19:05:16.650685Z"
        },
        "id": "foQ-vfXySZ7i"
      },
      "outputs": [],
      "source": [
        "print(s.find(\"learning\"))\n",
        "print(s.find(\"code\"))\n",
        "print(s.replace(\"Python\", \"coding\"))"
      ]
    },
    {
      "cell_type": "markdown",
      "metadata": {
        "ExecuteTime": {
          "end_time": "2022-10-15T21:57:48.748711Z",
          "start_time": "2022-10-15T21:57:48.736411Z"
        },
        "id": "PzLxGR98SZ7j"
      },
      "source": [
        "-1 - означає, що ми не знайшли такий підрядок в цтому рядку літеру в тому рядку."
      ]
    },
    {
      "cell_type": "code",
      "execution_count": null,
      "metadata": {
        "ExecuteTime": {
          "end_time": "2023-05-28T19:06:54.468585Z",
          "start_time": "2023-05-28T19:06:54.463545Z"
        },
        "id": "pYczfZtNSZ7j"
      },
      "outputs": [],
      "source": [
        "print(s.split())"
      ]
    },
    {
      "cell_type": "code",
      "execution_count": null,
      "metadata": {
        "ExecuteTime": {
          "end_time": "2023-05-28T19:07:54.890071Z",
          "start_time": "2023-05-28T19:07:54.887068Z"
        },
        "id": "-wGqJEk3SZ7j"
      },
      "outputs": [],
      "source": [
        "print('Hello, my friend!'.split(','))"
      ]
    },
    {
      "cell_type": "code",
      "execution_count": null,
      "metadata": {
        "ExecuteTime": {
          "end_time": "2023-05-28T19:08:24.531069Z",
          "start_time": "2023-05-28T19:08:24.527734Z"
        },
        "id": "VD8KvnviSZ7j"
      },
      "outputs": [],
      "source": [
        "print(\" \".join([\"Hello\", \"Python!\"]))"
      ]
    },
    {
      "cell_type": "code",
      "execution_count": null,
      "metadata": {
        "ExecuteTime": {
          "end_time": "2023-05-28T19:08:44.650763Z",
          "start_time": "2023-05-28T19:08:44.645778Z"
        },
        "id": "QGwdIRcrSZ7j"
      },
      "outputs": [],
      "source": [
        "\"AAAAA\".join([\"Hello\", \"Python!\", 'I am happy!'])"
      ]
    },
    {
      "cell_type": "markdown",
      "metadata": {
        "id": "FDnpzG3kSZ7j"
      },
      "source": [
        "Також корисними можуть бути методи на перевірку, що містить рядок. Ось деякі з них:\n",
        "\n",
        "- `s.isalnum()`: Повертає True, якщо всі символи в рядку є алфавітно-цифровими (тобто літерами або цифрами), і False в іншому випадку.\n",
        "- `s.isdigit()`: Повертає True, якщо всі символи в рядку є цифрами, і False в іншому випадку.\n",
        "- `s.isalpha()`: Повертає True, якщо всі символи в рядку є буквами, і False в іншому випадку.\n",
        "- `s.islower()`: Повертає True, якщо всі букви в рядку є маленькими, і False в іншому випадку.\n",
        "- `s.isupper()`: Повертає True, якщо всі букви в рядку є великими, і False в іншому випадку.\n",
        "- `s.isspace()`: Повертає True, якщо рядок містить тільки пробільні символи (наприклад, пробіли, табуляції та нові рядки), і False в іншому випадку."
      ]
    },
    {
      "cell_type": "code",
      "execution_count": null,
      "metadata": {
        "ExecuteTime": {
          "end_time": "2023-05-28T19:10:40.328686Z",
          "start_time": "2023-05-28T19:10:40.326276Z"
        },
        "id": "pbLhIhJ5SZ7j"
      },
      "outputs": [],
      "source": [
        "s2 = '15'"
      ]
    },
    {
      "cell_type": "code",
      "execution_count": null,
      "metadata": {
        "ExecuteTime": {
          "end_time": "2023-05-28T19:14:34.690663Z",
          "start_time": "2023-05-28T19:14:34.687168Z"
        },
        "id": "NLb_r1lESZ7j"
      },
      "outputs": [],
      "source": [
        "print(s2.isalnum())\n",
        "print(s2.isdigit())\n",
        "print(s2.isalpha())\n",
        "print(s2.isnumeric())\n",
        "print(s2.isdecimal())"
      ]
    },
    {
      "cell_type": "code",
      "execution_count": null,
      "metadata": {
        "ExecuteTime": {
          "end_time": "2023-05-28T19:11:28.450167Z",
          "start_time": "2023-05-28T19:11:28.446143Z"
        },
        "id": "_uhl9hmESZ7j"
      },
      "outputs": [],
      "source": [
        "s3 = \"Hello 123\"\n",
        "print(s3.isalnum())  # False, тому що пробіл не є алфавітно-цифровим символом"
      ]
    },
    {
      "cell_type": "code",
      "execution_count": null,
      "metadata": {
        "ExecuteTime": {
          "end_time": "2023-05-28T19:11:32.215703Z",
          "start_time": "2023-05-28T19:11:32.210963Z"
        },
        "id": "jGS3TWpJSZ7j"
      },
      "outputs": [],
      "source": [
        "s4 = \"   \\n\\t  \"\n",
        "print(s4.isspace())  # True"
      ]
    },
    {
      "cell_type": "markdown",
      "metadata": {
        "id": "tSLwBgFLSZ7j"
      },
      "source": [
        "#### Пробільні символи"
      ]
    },
    {
      "cell_type": "markdown",
      "metadata": {
        "id": "ekG_VtkeSZ7j"
      },
      "source": [
        "У Python існує кілька символів, які вважаються пробільними символами. Ось найпоширеніші з них:\n",
        "\n",
        "1. Пробіл (\" \"): Це найпоширеніший пробільний символ. Він використовується для відділення слів і виразів в тексті."
      ]
    },
    {
      "cell_type": "code",
      "execution_count": null,
      "metadata": {
        "ExecuteTime": {
          "end_time": "2023-05-28T19:12:07.238884Z",
          "start_time": "2023-05-28T19:12:07.235619Z"
        },
        "id": "lIGZ7fblSZ7k"
      },
      "outputs": [],
      "source": [
        "s = \"Hello World\"\n",
        "print(s)"
      ]
    },
    {
      "cell_type": "markdown",
      "metadata": {
        "ExecuteTime": {
          "end_time": "2023-05-28T15:56:19.246113Z",
          "start_time": "2023-05-28T15:56:19.227849Z"
        },
        "id": "VC7F1IRcSZ7k"
      },
      "source": [
        "2. Новий рядок (\"\\n\"): Символ нового рядка використовується для переходу на новий рядок. Він часто використовується в текстових файлах для відокремлення рядків тексту."
      ]
    },
    {
      "cell_type": "code",
      "execution_count": null,
      "metadata": {
        "ExecuteTime": {
          "end_time": "2023-05-28T19:12:28.764910Z",
          "start_time": "2023-05-28T19:12:28.760665Z"
        },
        "id": "aiOZd1P7SZ7k"
      },
      "outputs": [],
      "source": [
        "s = \"Hello\\nWorld\"\n",
        "print(s)"
      ]
    },
    {
      "cell_type": "markdown",
      "metadata": {
        "ExecuteTime": {
          "end_time": "2023-05-28T15:56:19.246113Z",
          "start_time": "2023-05-28T15:56:19.227849Z"
        },
        "id": "owu_VfHmSZ7k"
      },
      "source": [
        "2. Табуляція (\"\\t\"): Табуляція використовується для створення відступів в тексті. Вона часто використовується при форматуванні тексту."
      ]
    },
    {
      "cell_type": "code",
      "execution_count": null,
      "metadata": {
        "ExecuteTime": {
          "end_time": "2023-05-28T19:12:46.136389Z",
          "start_time": "2023-05-28T19:12:46.132164Z"
        },
        "id": "5q2_XimRSZ7k"
      },
      "outputs": [],
      "source": [
        "s = \"Hello\\tWorld\"\n",
        "print(s)"
      ]
    },
    {
      "cell_type": "markdown",
      "metadata": {
        "id": "a5Mw2WX2SZ7k"
      },
      "source": [
        "Одним з найпоширеніших використань символу табуляції (\\t) є відокремлення стовпців даних для виведення в консоль або текстовий файл. Використання \\t допомагає забезпечити, що дані відображаються у вигляді структурованої таблиці.\n",
        "\n",
        "Ось простий приклад виведення таблиці даних з використанням табуляції:"
      ]
    },
    {
      "cell_type": "code",
      "execution_count": null,
      "metadata": {
        "ExecuteTime": {
          "end_time": "2023-05-28T19:16:22.123645Z",
          "start_time": "2023-05-28T19:16:22.119635Z"
        },
        "id": "-xkCz48qSZ7k"
      },
      "outputs": [],
      "source": [
        "print(\n",
        "    \"Name\\tAge\\tCity\",\n",
        "    \"John\\t23\\tNew York\",\n",
        "    \"Anna\\t27\\tSan Francisco\",\n",
        "    \"Mike\\t30\\tChicago\", sep='\\n'\n",
        ")"
      ]
    },
    {
      "cell_type": "markdown",
      "metadata": {
        "id": "0T8gR_4zSZ7k"
      },
      "source": [
        "#### Операції над рядками\n",
        "Ми розглянути властивості рядків (їх методи), але є також операції - дії, які можна робити над рядками. Насправді, не тільки над ними. Але все поступово.\n",
        "1. Конкатенація (склеювання/обʼєднання): Ви можете використовувати символ + для з'єднання двох рядків.\n"
      ]
    },
    {
      "cell_type": "code",
      "execution_count": null,
      "metadata": {
        "ExecuteTime": {
          "end_time": "2023-05-28T19:17:08.364589Z",
          "start_time": "2023-05-28T19:17:08.358285Z"
        },
        "id": "hcfC-5qvSZ7k"
      },
      "outputs": [],
      "source": [
        "s1 = \"Hello\"\n",
        "s2 = \"World\"\n",
        "s3 = s1 + \" \" + s2\n",
        "s3"
      ]
    },
    {
      "cell_type": "code",
      "execution_count": null,
      "metadata": {
        "ExecuteTime": {
          "end_time": "2023-05-28T19:17:11.698995Z",
          "start_time": "2023-05-28T19:17:11.694583Z"
        },
        "id": "NbsEo-KsSZ7k"
      },
      "outputs": [],
      "source": [
        "s1 + \" \" + s2"
      ]
    },
    {
      "cell_type": "markdown",
      "metadata": {
        "ExecuteTime": {
          "end_time": "2023-05-28T15:18:31.541495Z",
          "start_time": "2023-05-28T15:18:31.529538Z"
        },
        "id": "tTDVRxE5SZ7k"
      },
      "source": [
        "2. Повторення: Символ * використовується для повторення рядка декілька разів."
      ]
    },
    {
      "cell_type": "code",
      "execution_count": null,
      "metadata": {
        "ExecuteTime": {
          "end_time": "2023-05-28T19:18:39.512289Z",
          "start_time": "2023-05-28T19:18:39.507268Z"
        },
        "id": "2qBJrXCASZ7k"
      },
      "outputs": [],
      "source": [
        "s = \"Hello !! \"\n",
        "repeated_s = s * 3\n",
        "repeated_s"
      ]
    },
    {
      "cell_type": "markdown",
      "metadata": {
        "id": "9X0j5wTJSZ7k"
      },
      "source": [
        "3. Індексація: Ви можете отримати доступ до символу в рядку за його індексом."
      ]
    },
    {
      "cell_type": "code",
      "execution_count": null,
      "metadata": {
        "ExecuteTime": {
          "end_time": "2023-05-28T19:19:00.158374Z",
          "start_time": "2023-05-28T19:19:00.151626Z"
        },
        "id": "3A1AH_YiSZ7l"
      },
      "outputs": [],
      "source": [
        "s = \"Hello\"\n",
        "s[0]"
      ]
    },
    {
      "cell_type": "code",
      "execution_count": null,
      "metadata": {
        "ExecuteTime": {
          "end_time": "2023-05-28T19:19:43.817384Z",
          "start_time": "2023-05-28T19:19:43.812285Z"
        },
        "id": "fpkYB5-rSZ7l"
      },
      "outputs": [],
      "source": [
        "s[1]"
      ]
    },
    {
      "cell_type": "markdown",
      "metadata": {
        "id": "rHL2tHmGSZ7l"
      },
      "source": [
        "4. Slicing: Ви можете отримати підрядок з рядка, використовуючи оператор зрізу."
      ]
    },
    {
      "cell_type": "code",
      "execution_count": null,
      "metadata": {
        "ExecuteTime": {
          "end_time": "2023-05-28T19:20:14.731253Z",
          "start_time": "2023-05-28T19:20:14.726670Z"
        },
        "id": "LNF3i5h6SZ7l"
      },
      "outputs": [],
      "source": [
        "s = \"Hello\"\n",
        "s[1:4]"
      ]
    },
    {
      "cell_type": "code",
      "execution_count": null,
      "metadata": {
        "ExecuteTime": {
          "end_time": "2023-05-28T19:20:28.156618Z",
          "start_time": "2023-05-28T19:20:28.139447Z"
        },
        "id": "r2WcKOElSZ7l"
      },
      "outputs": [],
      "source": [
        "s[5]"
      ]
    },
    {
      "cell_type": "markdown",
      "metadata": {
        "ExecuteTime": {
          "end_time": "2023-05-28T15:20:35.441690Z",
          "start_time": "2023-05-28T15:20:35.435174Z"
        },
        "id": "ZnPoSh3PSZ7l"
      },
      "source": [
        "5. Довжина: Ви можете отримати довжину рядка за допомогою вбудованої функції `len()`."
      ]
    },
    {
      "cell_type": "code",
      "execution_count": null,
      "metadata": {
        "ExecuteTime": {
          "end_time": "2023-05-28T19:20:57.753269Z",
          "start_time": "2023-05-28T19:20:57.748085Z"
        },
        "id": "4UQaSdvwSZ7l"
      },
      "outputs": [],
      "source": [
        "s = \"Hello\"\n",
        "len(s)"
      ]
    },
    {
      "cell_type": "markdown",
      "metadata": {
        "id": "GDVDjPRDSZ7l"
      },
      "source": [
        "Спойлер: насправді всі ці операції працюють так само для списків, бо рядок - це технічно - список символів. Зі списками познайомимось за кілька хвилин."
      ]
    },
    {
      "cell_type": "markdown",
      "metadata": {
        "id": "1J18hBo7SZ7l"
      },
      "source": [
        "### Булевий або логічний тип,  `bool`\n",
        "Логічний тип є результатом виконання певної логічної дії, наприклад:"
      ]
    },
    {
      "cell_type": "code",
      "execution_count": null,
      "metadata": {
        "ExecuteTime": {
          "end_time": "2023-05-28T19:23:32.856663Z",
          "start_time": "2023-05-28T19:23:32.846168Z"
        },
        "id": "0_RO576BSZ7l"
      },
      "outputs": [],
      "source": [
        "display(\n",
        "    5 > 2,\n",
        "    5 < 2,\n",
        "    5 == 6,\n",
        "    5 == 5.0,\n",
        "    5 != 4\n",
        ")"
      ]
    },
    {
      "cell_type": "markdown",
      "metadata": {
        "id": "yKGJaMnOSZ7l"
      },
      "source": [
        "Булевий тип може приймати всього два значення: `True` та `False` - обовʼязково з заглавної літери."
      ]
    },
    {
      "cell_type": "code",
      "execution_count": null,
      "metadata": {
        "ExecuteTime": {
          "end_time": "2023-05-28T19:24:04.318459Z",
          "start_time": "2023-05-28T19:24:04.314567Z"
        },
        "id": "86WM7cuOSZ7l"
      },
      "outputs": [],
      "source": [
        "type(False)"
      ]
    },
    {
      "cell_type": "code",
      "execution_count": null,
      "metadata": {
        "ExecuteTime": {
          "end_time": "2023-05-28T19:24:19.531148Z",
          "start_time": "2023-05-28T19:24:19.510727Z"
        },
        "id": "U40pL161SZ7l"
      },
      "outputs": [],
      "source": [
        "true # помилка"
      ]
    },
    {
      "cell_type": "markdown",
      "metadata": {
        "id": "07fKb4_rSZ7m"
      },
      "source": [
        "Також існують інші (крім операції порівняння) булеві операції, результатом виконання яких буде булевий тип даних:\n",
        "- `and` повертає True, якщо всі операнди (члени операції) істинні (тобто обидва є True), в іншому випадку повертає False\n",
        "- `or` повертає True, якщо хоча б один з операндів істинний (тобто хоча б один є True), в іншому випадку повертає False\n",
        "- `not` це унарний оператор, який повертає True, якщо операнд неправдивий (False), і False, якщо операнд істинний (True)."
      ]
    },
    {
      "cell_type": "code",
      "execution_count": null,
      "metadata": {
        "ExecuteTime": {
          "end_time": "2023-05-28T19:26:26.069853Z",
          "start_time": "2023-05-28T19:26:26.065786Z"
        },
        "id": "WJHdlEA8SZ7m"
      },
      "outputs": [],
      "source": [
        "5==5 and 6!=1 and 7==7 and 6>2"
      ]
    },
    {
      "cell_type": "code",
      "execution_count": null,
      "metadata": {
        "ExecuteTime": {
          "end_time": "2023-05-28T19:26:46.379729Z",
          "start_time": "2023-05-28T19:26:46.375234Z"
        },
        "id": "QDaevK8vSZ7m"
      },
      "outputs": [],
      "source": [
        "5==5 and 6!=6 and 7==7 and 6>2"
      ]
    },
    {
      "cell_type": "code",
      "execution_count": null,
      "metadata": {
        "ExecuteTime": {
          "end_time": "2023-05-28T19:27:28.712005Z",
          "start_time": "2023-05-28T19:27:28.707919Z"
        },
        "id": "Q3xsglqxSZ7m"
      },
      "outputs": [],
      "source": [
        "6==1"
      ]
    },
    {
      "cell_type": "code",
      "execution_count": null,
      "metadata": {
        "ExecuteTime": {
          "end_time": "2023-05-28T19:27:39.751550Z",
          "start_time": "2023-05-28T19:27:39.746144Z"
        },
        "id": "rgAvtgXySZ7m"
      },
      "outputs": [],
      "source": [
        "not 6==1"
      ]
    },
    {
      "cell_type": "code",
      "execution_count": null,
      "metadata": {
        "ExecuteTime": {
          "end_time": "2023-05-28T19:27:50.430992Z",
          "start_time": "2023-05-28T19:27:50.426692Z"
        },
        "id": "OI7D9rSpSZ7m"
      },
      "outputs": [],
      "source": [
        "5==5 and not 6==1"
      ]
    },
    {
      "cell_type": "markdown",
      "metadata": {
        "id": "oCoAo7qPSZ7m"
      },
      "source": [
        "### Пустий тип,  `NoneType`\n",
        "\n",
        "Аби визначити будь-який обʼєкт маємо визначити також і пустоту. І тоді те, що в обʼєкта є значення, означає, що там вже не пусто.  \n",
        "В інших мовах програмування є значення `null`, у Python ми маємо `None`, що означає відсутність значення:"
      ]
    },
    {
      "cell_type": "code",
      "execution_count": null,
      "metadata": {
        "ExecuteTime": {
          "end_time": "2023-05-28T19:28:31.800073Z",
          "start_time": "2023-05-28T19:28:31.796603Z"
        },
        "id": "Xn_LKXIFSZ7m"
      },
      "outputs": [],
      "source": [
        "x = None"
      ]
    },
    {
      "cell_type": "markdown",
      "metadata": {
        "ExecuteTime": {
          "end_time": "2022-10-15T22:07:35.105609Z",
          "start_time": "2022-10-15T22:07:35.096894Z"
        },
        "id": "w-NMKNxvSZ7m"
      },
      "source": [
        "Спробуємо вивести це значення:"
      ]
    },
    {
      "cell_type": "code",
      "execution_count": null,
      "metadata": {
        "ExecuteTime": {
          "end_time": "2023-05-28T19:28:36.673439Z",
          "start_time": "2023-05-28T19:28:36.671001Z"
        },
        "id": "mU4wsuiDSZ7m"
      },
      "outputs": [],
      "source": [
        "x"
      ]
    },
    {
      "cell_type": "code",
      "execution_count": null,
      "metadata": {
        "ExecuteTime": {
          "end_time": "2023-05-28T19:28:39.646980Z",
          "start_time": "2023-05-28T19:28:39.642346Z"
        },
        "id": "4FGxsGrbSZ7m"
      },
      "outputs": [],
      "source": [
        "print(x)"
      ]
    },
    {
      "cell_type": "markdown",
      "metadata": {
        "ExecuteTime": {
          "end_time": "2022-10-15T22:07:51.557312Z",
          "start_time": "2022-10-15T22:07:51.552601Z"
        },
        "id": "1OQsF5RqSZ7m"
      },
      "source": [
        "Перевіримо тип"
      ]
    },
    {
      "cell_type": "code",
      "execution_count": null,
      "metadata": {
        "ExecuteTime": {
          "end_time": "2023-05-28T19:28:45.110220Z",
          "start_time": "2023-05-28T19:28:45.106074Z"
        },
        "id": "iOJBY9AUSZ7m"
      },
      "outputs": [],
      "source": [
        "type(None)"
      ]
    },
    {
      "cell_type": "markdown",
      "metadata": {
        "id": "JXnzWX6xSZ7m"
      },
      "source": [
        "В даних часто бувають пропущені дані. От тут то і зʼявляється цей None."
      ]
    },
    {
      "cell_type": "code",
      "execution_count": null,
      "metadata": {
        "ExecuteTime": {
          "end_time": "2023-05-28T19:29:13.173510Z",
          "start_time": "2023-05-28T19:29:13.153915Z"
        },
        "id": "UPWFFpfFSZ7n"
      },
      "outputs": [],
      "source": [
        "None > 5"
      ]
    },
    {
      "cell_type": "markdown",
      "metadata": {
        "id": "pFKl6IN1SZ7n"
      },
      "source": [
        "### `int`, `float`, `str` та `bool` об'єкти та функції\n",
        "\n",
        "Ви часто побачите, що деякі з цих \"ключових слів/імен\" використовуються і як функції, і як окремі об'єкти. При використанні `int`, `float`, `str` та `bool` як функцій ми робимо **перетворення/приведення об’єктів до відповідного типу**. Наприклад:"
      ]
    },
    {
      "cell_type": "code",
      "execution_count": null,
      "metadata": {
        "ExecuteTime": {
          "end_time": "2023-05-28T19:30:43.596818Z",
          "start_time": "2023-05-28T19:30:43.593615Z"
        },
        "id": "23tOkOaGSZ7n"
      },
      "outputs": [],
      "source": [
        "age_as_string = \"28\""
      ]
    },
    {
      "cell_type": "code",
      "execution_count": null,
      "metadata": {
        "ExecuteTime": {
          "end_time": "2023-05-28T19:30:54.904622Z",
          "start_time": "2023-05-28T19:30:54.898688Z"
        },
        "id": "vsKtwU_7SZ7n"
      },
      "outputs": [],
      "source": [
        "age_as_string"
      ]
    },
    {
      "cell_type": "code",
      "execution_count": null,
      "metadata": {
        "ExecuteTime": {
          "end_time": "2023-05-28T19:30:45.964268Z",
          "start_time": "2023-05-28T19:30:45.960324Z"
        },
        "id": "4_4rGhyuSZ7n"
      },
      "outputs": [],
      "source": [
        "type(age_as_string)"
      ]
    },
    {
      "cell_type": "code",
      "execution_count": null,
      "metadata": {
        "ExecuteTime": {
          "end_time": "2023-05-28T19:30:59.918228Z",
          "start_time": "2023-05-28T19:30:59.912696Z"
        },
        "id": "HJVXHwKxSZ7n"
      },
      "outputs": [],
      "source": [
        "int(age_as_string)"
      ]
    },
    {
      "cell_type": "markdown",
      "metadata": {
        "id": "6TYn5WGASZ7n"
      },
      "source": [
        "Це, до речі, називається кастуванням - перетворенням типів."
      ]
    },
    {
      "cell_type": "code",
      "execution_count": null,
      "metadata": {
        "ExecuteTime": {
          "end_time": "2023-05-28T19:31:14.329663Z",
          "start_time": "2023-05-28T19:31:14.325185Z"
        },
        "id": "jIqKF_E-SZ7n"
      },
      "outputs": [],
      "source": [
        "age = int(age_as_string)"
      ]
    },
    {
      "cell_type": "code",
      "execution_count": null,
      "metadata": {
        "ExecuteTime": {
          "end_time": "2023-05-28T19:31:15.542716Z",
          "start_time": "2023-05-28T19:31:15.539002Z"
        },
        "id": "aQlYY4vNSZ7n"
      },
      "outputs": [],
      "source": [
        "type(age)"
      ]
    },
    {
      "cell_type": "code",
      "execution_count": null,
      "metadata": {
        "ExecuteTime": {
          "end_time": "2023-05-28T19:32:16.702485Z",
          "start_time": "2023-05-28T19:32:16.697000Z"
        },
        "id": "EUBQBm97SZ7n"
      },
      "outputs": [],
      "source": [
        "'Hello my ' + str(25)"
      ]
    },
    {
      "cell_type": "markdown",
      "metadata": {
        "id": "Rmur37imSZ7n"
      },
      "source": [
        "Використання `int`, `float`, `str` та `bool` як об'єктів в основному пов'язане з типом, який вони позначають (скажімо, для перевірки):"
      ]
    },
    {
      "cell_type": "code",
      "execution_count": null,
      "metadata": {
        "ExecuteTime": {
          "end_time": "2022-10-15T22:10:32.501109Z",
          "start_time": "2022-10-15T22:10:32.496765Z"
        },
        "id": "QKuuyWQ5SZ7n"
      },
      "outputs": [],
      "source": [
        "type(13) == int"
      ]
    },
    {
      "cell_type": "markdown",
      "metadata": {
        "id": "AKyc6e2VSZ7o"
      },
      "source": [
        "## Колекції\n",
        "\n",
        "Python має кілька різноманітних типів колекцій, кожна з яких має різні функції та можливості. Найпоширеніші колекції, які ми розглянемо зараз:\n",
        "\n",
        "* Списки - `list`\n",
        "* Кортежі - `tuple`\n",
        "* Словники - `dict`\n",
        "* Набори - `set`\n",
        "\n",
        "Незважаючи на те, що всі вони мають різні можливості, є одна спільна властивість для всіх: колекції Python неоднорідні, тобто ви можете змішувати кілька типів. Це **не означає, що ми маємо** змішувати типи, зазвичай краще мати однорідну колекцію.\n",
        "\n",
        "### Списки\n",
        "\n",
        "Списки — це змінні (mutable) впорядковані послідовності. Це певно найпоширеніший тип колекції."
      ]
    },
    {
      "cell_type": "code",
      "execution_count": null,
      "metadata": {
        "ExecuteTime": {
          "end_time": "2023-05-28T21:21:30.676381Z",
          "start_time": "2023-05-28T21:21:30.638145Z"
        },
        "id": "0BUob5FNSZ7o"
      },
      "outputs": [],
      "source": [
        "l = [3, 'Hello World', True]"
      ]
    },
    {
      "cell_type": "code",
      "execution_count": null,
      "metadata": {
        "ExecuteTime": {
          "end_time": "2023-05-28T21:21:46.036096Z",
          "start_time": "2023-05-28T21:21:46.017804Z"
        },
        "id": "65SHykobSZ7o"
      },
      "outputs": [],
      "source": [
        "len(l)"
      ]
    },
    {
      "cell_type": "code",
      "execution_count": null,
      "metadata": {
        "ExecuteTime": {
          "end_time": "2023-05-28T21:22:21.421568Z",
          "start_time": "2023-05-28T21:22:21.405058Z"
        },
        "id": "4aUiny2LSZ7o"
      },
      "outputs": [],
      "source": [
        "l"
      ]
    },
    {
      "cell_type": "markdown",
      "metadata": {
        "id": "udFjnY5MSZ7o"
      },
      "source": [
        "Доступ до елементів списку здійснюється за допомогою послідовних індексів (починаючи з `0`):"
      ]
    },
    {
      "cell_type": "markdown",
      "metadata": {
        "id": "1cI3nlcVSZ7o"
      },
      "source": [
        "![image.png](attachment:image.png)"
      ]
    },
    {
      "cell_type": "code",
      "execution_count": null,
      "metadata": {
        "ExecuteTime": {
          "end_time": "2023-05-28T21:23:30.965562Z",
          "start_time": "2023-05-28T21:23:30.956541Z"
        },
        "id": "9zKr7rqNSZ7o"
      },
      "outputs": [],
      "source": [
        "l[0]"
      ]
    },
    {
      "cell_type": "code",
      "execution_count": null,
      "metadata": {
        "ExecuteTime": {
          "end_time": "2023-05-28T21:23:34.819432Z",
          "start_time": "2023-05-28T21:23:34.811293Z"
        },
        "id": "jk_bw3hZSZ7o"
      },
      "outputs": [],
      "source": [
        "l[1]"
      ]
    },
    {
      "cell_type": "code",
      "execution_count": null,
      "metadata": {
        "ExecuteTime": {
          "end_time": "2023-05-28T21:23:40.070224Z",
          "start_time": "2023-05-28T21:23:40.061262Z"
        },
        "id": "xD_EaS50SZ7o"
      },
      "outputs": [],
      "source": [
        "l[2]"
      ]
    },
    {
      "cell_type": "markdown",
      "metadata": {
        "id": "5EfdHoa8SZ7o"
      },
      "source": [
        "Також підтримуються відʼємні індекси:"
      ]
    },
    {
      "cell_type": "code",
      "execution_count": null,
      "metadata": {
        "ExecuteTime": {
          "end_time": "2023-05-28T21:23:49.579008Z",
          "start_time": "2023-05-28T21:23:49.573324Z"
        },
        "id": "rNUpfOFBSZ7o"
      },
      "outputs": [],
      "source": [
        "l[-1]"
      ]
    },
    {
      "cell_type": "code",
      "execution_count": null,
      "metadata": {
        "ExecuteTime": {
          "end_time": "2023-05-28T21:24:04.582424Z",
          "start_time": "2023-05-28T21:24:04.572248Z"
        },
        "id": "TIl-klSzSZ7o"
      },
      "outputs": [],
      "source": [
        "l[-3]"
      ]
    },
    {
      "cell_type": "markdown",
      "metadata": {
        "id": "8MatvdbTSZ7o"
      },
      "source": [
        "##### Методи списків\n",
        "Списки мають ряд вбудованих методів. Ось найбільш поширені з них:\n",
        "1. **append(x)**: Додає елемент x в кінець списку."
      ]
    },
    {
      "cell_type": "code",
      "execution_count": null,
      "metadata": {
        "ExecuteTime": {
          "end_time": "2023-05-28T21:27:34.557960Z",
          "start_time": "2023-05-28T21:27:34.554717Z"
        },
        "id": "9hcgND6MSZ7p"
      },
      "outputs": [],
      "source": [
        "list_example = [1, 2, 3]\n",
        "list_example.append(4)"
      ]
    },
    {
      "cell_type": "code",
      "execution_count": null,
      "metadata": {
        "ExecuteTime": {
          "end_time": "2023-05-28T21:27:38.194454Z",
          "start_time": "2023-05-28T21:27:38.187582Z"
        },
        "id": "pyLJU4WqSZ7p"
      },
      "outputs": [],
      "source": [
        "list_example"
      ]
    },
    {
      "cell_type": "code",
      "execution_count": null,
      "metadata": {
        "ExecuteTime": {
          "end_time": "2023-05-28T21:27:45.538914Z",
          "start_time": "2023-05-28T21:27:45.535862Z"
        },
        "id": "KGenGmzsSZ7p"
      },
      "outputs": [],
      "source": [
        "list_example.append(1001)"
      ]
    },
    {
      "cell_type": "code",
      "execution_count": null,
      "metadata": {
        "ExecuteTime": {
          "end_time": "2023-05-28T21:27:49.312773Z",
          "start_time": "2023-05-28T21:27:49.307300Z"
        },
        "id": "nQ-A6ddDSZ7p"
      },
      "outputs": [],
      "source": [
        "list_example"
      ]
    },
    {
      "cell_type": "markdown",
      "metadata": {
        "id": "FXPo9D5KSZ7p"
      },
      "source": [
        "2. **extend(iterable)**: Додає всі елементи з iterable (наприклад, іншого списку або кортежу) до кінця списку."
      ]
    },
    {
      "cell_type": "code",
      "execution_count": null,
      "metadata": {
        "ExecuteTime": {
          "end_time": "2023-05-28T21:28:42.194544Z",
          "start_time": "2023-05-28T21:28:42.191400Z"
        },
        "id": "bSREhxRvSZ7p"
      },
      "outputs": [],
      "source": [
        "list1 = [1, 2, 3]\n",
        "list2 = [4, 5, 6, 7, 8, 9]\n",
        "list1.extend(list2)"
      ]
    },
    {
      "cell_type": "code",
      "execution_count": null,
      "metadata": {
        "ExecuteTime": {
          "end_time": "2023-05-28T21:29:05.734166Z",
          "start_time": "2023-05-28T21:29:05.726964Z"
        },
        "id": "g9TyKyE-SZ7p"
      },
      "outputs": [],
      "source": [
        "display(list1, list2)"
      ]
    },
    {
      "cell_type": "markdown",
      "metadata": {
        "id": "5bjqSmXwSZ7p"
      },
      "source": [
        "3. **insert(i, x)**: Вставляє елемент x в список на позицію i."
      ]
    },
    {
      "cell_type": "code",
      "execution_count": null,
      "metadata": {
        "ExecuteTime": {
          "end_time": "2023-05-28T21:31:18.074612Z",
          "start_time": "2023-05-28T21:31:18.071204Z"
        },
        "id": "M5lSb8bHSZ7p"
      },
      "outputs": [],
      "source": [
        "list_example = [1, 2, 4]\n",
        "list_example.insert(-1, 10)"
      ]
    },
    {
      "cell_type": "code",
      "execution_count": null,
      "metadata": {
        "ExecuteTime": {
          "end_time": "2023-05-28T21:31:18.258873Z",
          "start_time": "2023-05-28T21:31:18.254171Z"
        },
        "id": "FfAos_4USZ7p"
      },
      "outputs": [],
      "source": [
        "list_example"
      ]
    },
    {
      "cell_type": "markdown",
      "metadata": {
        "id": "satSUmiRSZ7p"
      },
      "source": [
        "4. **remove(x)**: Видаляє перший елемент x зі списку. Якщо такого елементу немає, генерується виняток ValueError."
      ]
    },
    {
      "cell_type": "code",
      "execution_count": null,
      "metadata": {
        "ExecuteTime": {
          "end_time": "2023-05-28T21:32:51.887337Z",
          "start_time": "2023-05-28T21:32:51.882658Z"
        },
        "id": "W9YriI3gSZ7p"
      },
      "outputs": [],
      "source": [
        "list_example = [1, 2, 3, 2, 5, 66, 5, 10, 2]\n",
        "list_example.remove(2)"
      ]
    },
    {
      "cell_type": "code",
      "execution_count": null,
      "metadata": {
        "ExecuteTime": {
          "end_time": "2023-05-28T21:33:19.272458Z",
          "start_time": "2023-05-28T21:33:19.268594Z"
        },
        "scrolled": true,
        "id": "2Auxj1xJSZ7p"
      },
      "outputs": [],
      "source": [
        "list_example.remove(2)\n",
        "list_example"
      ]
    },
    {
      "cell_type": "code",
      "execution_count": null,
      "metadata": {
        "ExecuteTime": {
          "end_time": "2023-05-28T21:32:34.334698Z",
          "start_time": "2023-05-28T21:32:34.331853Z"
        },
        "id": "r1UDO_f1SZ7q"
      },
      "outputs": [],
      "source": [
        "list_example.remove(3)"
      ]
    },
    {
      "cell_type": "code",
      "execution_count": null,
      "metadata": {
        "ExecuteTime": {
          "end_time": "2023-05-28T21:32:38.358454Z",
          "start_time": "2023-05-28T21:32:38.352643Z"
        },
        "id": "8GbUIFNPSZ7q"
      },
      "outputs": [],
      "source": [
        "list_example"
      ]
    },
    {
      "cell_type": "markdown",
      "metadata": {
        "id": "7MqGEzPZSZ7q"
      },
      "source": [
        "5. **pop([i])**: Видаляє елемент на позиції i зі списку та повертає його. Якщо індекс не вказаний, видаляє та повертає останній елемент."
      ]
    },
    {
      "cell_type": "code",
      "execution_count": null,
      "metadata": {
        "ExecuteTime": {
          "end_time": "2023-05-28T21:33:55.877285Z",
          "start_time": "2023-05-28T21:33:55.872133Z"
        },
        "id": "_nFionCQSZ7q"
      },
      "outputs": [],
      "source": [
        "list_example = [1, 2, 3]\n",
        "x = list_example.pop(1)\n",
        "print(list_example)  # [1, 3]\n",
        "print(x)     # 2"
      ]
    },
    {
      "cell_type": "markdown",
      "metadata": {
        "id": "YmCe4iENSZ7q"
      },
      "source": [
        "6. **index(x[, start[, end]])**: Повертає індекс першого елемента x у списку. Якщо такого елементу немає, генерується виняток ValueError."
      ]
    },
    {
      "cell_type": "code",
      "execution_count": null,
      "metadata": {
        "ExecuteTime": {
          "end_time": "2023-05-28T21:35:17.326925Z",
          "start_time": "2023-05-28T21:35:17.322143Z"
        },
        "id": "3ppdKXiLSZ7q"
      },
      "outputs": [],
      "source": [
        "list_example = [101, 201, 301, 50, 1010, 201, 50]\n",
        "list_example.index(50)"
      ]
    },
    {
      "cell_type": "code",
      "execution_count": null,
      "metadata": {
        "ExecuteTime": {
          "end_time": "2023-05-28T21:35:41.852646Z",
          "start_time": "2023-05-28T21:35:41.833104Z"
        },
        "id": "-4SLyF8lSZ7q"
      },
      "outputs": [],
      "source": [
        "list_example.index(506)"
      ]
    },
    {
      "cell_type": "markdown",
      "metadata": {
        "id": "9p702_S7SZ7q"
      },
      "source": [
        "7. **count(x)**: Повертає кількість разів, коли x зустрічається в списку."
      ]
    },
    {
      "cell_type": "code",
      "execution_count": null,
      "metadata": {
        "ExecuteTime": {
          "end_time": "2023-05-28T21:36:05.750138Z",
          "start_time": "2023-05-28T21:36:05.744054Z"
        },
        "id": "aPgbyl4nSZ7q"
      },
      "outputs": [],
      "source": [
        "list_example = [1, 2, 3, 2, 61, 2, 11, 2, 2]\n",
        "list_example.count(2)"
      ]
    },
    {
      "cell_type": "markdown",
      "metadata": {
        "id": "Nlxe-y4GSZ7r"
      },
      "source": [
        "8. **sort(key=None, reverse=False)**: Сортує елементи списку на місці."
      ]
    },
    {
      "cell_type": "code",
      "execution_count": null,
      "metadata": {
        "ExecuteTime": {
          "end_time": "2023-05-28T21:36:34.082294Z",
          "start_time": "2023-05-28T21:36:34.078027Z"
        },
        "id": "b_JdkVruSZ7r"
      },
      "outputs": [],
      "source": [
        "list_example = [3, 2, 1, 4]\n",
        "list_example.sort()"
      ]
    },
    {
      "cell_type": "code",
      "execution_count": null,
      "metadata": {
        "ExecuteTime": {
          "end_time": "2023-05-28T21:36:50.775600Z",
          "start_time": "2023-05-28T21:36:50.772459Z"
        },
        "id": "ob_s93T8SZ7r"
      },
      "outputs": [],
      "source": [
        "list_example.sort(reverse=True)"
      ]
    },
    {
      "cell_type": "code",
      "execution_count": null,
      "metadata": {
        "ExecuteTime": {
          "end_time": "2023-05-28T21:36:54.093111Z",
          "start_time": "2023-05-28T21:36:54.087180Z"
        },
        "id": "M9OWLD49SZ7r"
      },
      "outputs": [],
      "source": [
        "list_example"
      ]
    },
    {
      "cell_type": "markdown",
      "metadata": {
        "id": "XM-7LN86SZ7r"
      },
      "source": [
        "9. **reverse()**: Перевертає порядок елементів списку на місці."
      ]
    },
    {
      "cell_type": "code",
      "execution_count": null,
      "metadata": {
        "ExecuteTime": {
          "end_time": "2023-05-28T21:37:25.459334Z",
          "start_time": "2023-05-28T21:37:25.453571Z"
        },
        "id": "eiYV_WhySZ7r"
      },
      "outputs": [],
      "source": [
        "list_example = [101, 12, 33, 405]\n",
        "list_example.reverse()\n",
        "list_example"
      ]
    },
    {
      "cell_type": "markdown",
      "metadata": {
        "id": "kO38HeFbSZ7r"
      },
      "source": [
        "10. **clear()**: Видаляє всі елементи зі списку."
      ]
    },
    {
      "cell_type": "code",
      "execution_count": null,
      "metadata": {
        "ExecuteTime": {
          "end_time": "2023-05-28T21:38:12.648552Z",
          "start_time": "2023-05-28T21:38:12.643990Z"
        },
        "id": "7JjKi_CNSZ7r"
      },
      "outputs": [],
      "source": [
        "list_example = [1, 2, 3, 4]\n",
        "list_example.clear()\n",
        "list_example"
      ]
    },
    {
      "cell_type": "markdown",
      "metadata": {
        "id": "fpKhbg4WSZ7r"
      },
      "source": [
        "##### Операції над списками\n",
        "Вже відомі нам конкатенація, повторення(клонування списку) і довжина - це насправді операції списку, які також працюють і для рядків."
      ]
    },
    {
      "cell_type": "code",
      "execution_count": null,
      "metadata": {
        "ExecuteTime": {
          "end_time": "2023-05-28T21:39:37.083441Z",
          "start_time": "2023-05-28T21:39:37.079855Z"
        },
        "id": "3kkbW5WnSZ7r"
      },
      "outputs": [],
      "source": [
        "list_example = [11, 23, 231, 16, 2, 7, 9, 1]"
      ]
    },
    {
      "cell_type": "code",
      "execution_count": null,
      "metadata": {
        "ExecuteTime": {
          "end_time": "2023-05-28T21:39:38.056333Z",
          "start_time": "2023-05-28T21:39:38.052392Z"
        },
        "id": "porGZspESZ7r"
      },
      "outputs": [],
      "source": [
        "# concatenation\n",
        "list_example + [1001, 1002]"
      ]
    },
    {
      "cell_type": "code",
      "execution_count": null,
      "metadata": {
        "ExecuteTime": {
          "end_time": "2023-05-28T21:40:12.121269Z",
          "start_time": "2023-05-28T21:40:12.117216Z"
        },
        "id": "qyFU2oPcSZ7r"
      },
      "outputs": [],
      "source": [
        "# duplication\n",
        "[1001, 1002] * 3"
      ]
    },
    {
      "cell_type": "code",
      "execution_count": null,
      "metadata": {
        "ExecuteTime": {
          "end_time": "2023-05-28T21:40:19.469039Z",
          "start_time": "2023-05-28T21:40:19.465427Z"
        },
        "id": "b0vEVXW-SZ7s"
      },
      "outputs": [],
      "source": [
        "# len\n",
        "len(list_example)"
      ]
    },
    {
      "cell_type": "markdown",
      "metadata": {
        "id": "JIkfTg8ZSZ7s"
      },
      "source": [
        "Крім того є такі операції як:\n",
        "- Перевірка наявності елемента в списку:"
      ]
    },
    {
      "cell_type": "code",
      "execution_count": null,
      "metadata": {
        "ExecuteTime": {
          "end_time": "2023-05-28T21:40:29.629747Z",
          "start_time": "2023-05-28T21:40:29.622419Z"
        },
        "id": "npoAIkFsSZ7s"
      },
      "outputs": [],
      "source": [
        "list_example = [1, 2, 3, 4]\n",
        "4 in list_example"
      ]
    },
    {
      "cell_type": "code",
      "execution_count": null,
      "metadata": {
        "ExecuteTime": {
          "end_time": "2023-05-28T21:40:32.597977Z",
          "start_time": "2023-05-28T21:40:32.593802Z"
        },
        "id": "CPlaP-BYSZ7s"
      },
      "outputs": [],
      "source": [
        "10 in list_example"
      ]
    },
    {
      "cell_type": "markdown",
      "metadata": {
        "id": "fS3e9Mx8SZ7s"
      },
      "source": [
        "- Пошук мінімального і максимального елементів у списку:"
      ]
    },
    {
      "cell_type": "code",
      "execution_count": null,
      "metadata": {
        "ExecuteTime": {
          "end_time": "2023-05-28T21:40:38.670519Z",
          "start_time": "2023-05-28T21:40:38.665928Z"
        },
        "id": "065xPK9mSZ7s"
      },
      "outputs": [],
      "source": [
        "list_example"
      ]
    },
    {
      "cell_type": "code",
      "execution_count": null,
      "metadata": {
        "ExecuteTime": {
          "end_time": "2023-05-28T21:40:39.168181Z",
          "start_time": "2023-05-28T21:40:39.162802Z"
        },
        "id": "z4w6CiuTSZ7s"
      },
      "outputs": [],
      "source": [
        "max(list_example), min(list_example)"
      ]
    },
    {
      "cell_type": "markdown",
      "metadata": {
        "id": "e6BLLn3qSZ7s"
      },
      "source": [
        "- Сортування, але не через метод, а викликом функції."
      ]
    },
    {
      "cell_type": "code",
      "execution_count": null,
      "metadata": {
        "ExecuteTime": {
          "end_time": "2023-05-28T21:41:16.399535Z",
          "start_time": "2023-05-28T21:41:16.396396Z"
        },
        "id": "9r0UOeuuSZ7s"
      },
      "outputs": [],
      "source": [
        "list_example = [1, 2, 22, 45, 12, 3, 4, 55, 108]"
      ]
    },
    {
      "cell_type": "code",
      "execution_count": null,
      "metadata": {
        "ExecuteTime": {
          "end_time": "2023-05-28T21:41:20.553877Z",
          "start_time": "2023-05-28T21:41:20.548174Z"
        },
        "id": "dgarMRNjSZ7s"
      },
      "outputs": [],
      "source": [
        "list_example"
      ]
    },
    {
      "cell_type": "code",
      "execution_count": null,
      "metadata": {
        "ExecuteTime": {
          "end_time": "2023-05-28T21:41:21.586832Z",
          "start_time": "2023-05-28T21:41:21.581822Z"
        },
        "id": "E4vfEmcISZ7s"
      },
      "outputs": [],
      "source": [
        "sorted(list_example)"
      ]
    },
    {
      "cell_type": "code",
      "execution_count": null,
      "metadata": {
        "ExecuteTime": {
          "end_time": "2023-05-28T21:41:42.751967Z",
          "start_time": "2023-05-28T21:41:42.749009Z"
        },
        "id": "q5Y1NUbYSZ7s"
      },
      "outputs": [],
      "source": [
        "list_example.sort()"
      ]
    },
    {
      "cell_type": "code",
      "execution_count": null,
      "metadata": {
        "ExecuteTime": {
          "end_time": "2023-05-28T21:41:47.853196Z",
          "start_time": "2023-05-28T21:41:47.849000Z"
        },
        "id": "RVTSuZyfSZ7t"
      },
      "outputs": [],
      "source": [
        "list_example"
      ]
    },
    {
      "cell_type": "code",
      "execution_count": null,
      "metadata": {
        "ExecuteTime": {
          "end_time": "2023-05-28T21:42:13.020606Z",
          "start_time": "2023-05-28T21:42:13.016611Z"
        },
        "id": "5mYEqvO0SZ7t"
      },
      "outputs": [],
      "source": [
        "sorted(list_example,reverse=True)"
      ]
    },
    {
      "cell_type": "markdown",
      "metadata": {
        "id": "vR4yp2kKSZ7t"
      },
      "source": [
        "- Сума всіх елементів списку"
      ]
    },
    {
      "cell_type": "code",
      "execution_count": null,
      "metadata": {
        "ExecuteTime": {
          "end_time": "2023-05-28T21:42:24.482259Z",
          "start_time": "2023-05-28T21:42:24.476888Z"
        },
        "id": "05gfSsSzSZ7t"
      },
      "outputs": [],
      "source": [
        "sum(list_example)"
      ]
    },
    {
      "cell_type": "markdown",
      "metadata": {
        "id": "FVMiGcfESZ7t"
      },
      "source": [
        "##### Slicing\n",
        "Вибірка елементів зі списку. Синтаксис:\n",
        "```\n",
        "list[start:stop:step]\n",
        "```"
      ]
    },
    {
      "cell_type": "markdown",
      "metadata": {
        "id": "pCeI_feCSZ7t"
      },
      "source": [
        "![image.png](attachment:image.png)"
      ]
    },
    {
      "cell_type": "code",
      "execution_count": null,
      "metadata": {
        "ExecuteTime": {
          "end_time": "2023-05-28T21:43:48.450855Z",
          "start_time": "2023-05-28T21:43:48.446456Z"
        },
        "id": "SfuzfiA5SZ7t"
      },
      "outputs": [],
      "source": [
        "[1,2,2,4,5]"
      ]
    },
    {
      "cell_type": "code",
      "execution_count": null,
      "metadata": {
        "ExecuteTime": {
          "end_time": "2023-05-28T21:45:00.362077Z",
          "start_time": "2023-05-28T21:45:00.358814Z"
        },
        "id": "cgGJArmUSZ7t"
      },
      "outputs": [],
      "source": [
        "l = list(range(100))"
      ]
    },
    {
      "cell_type": "code",
      "execution_count": null,
      "metadata": {
        "ExecuteTime": {
          "end_time": "2023-05-28T21:45:31.935033Z",
          "start_time": "2023-05-28T21:45:31.931421Z"
        },
        "id": "parXpQXeSZ7t"
      },
      "outputs": [],
      "source": [
        "l[5]"
      ]
    },
    {
      "cell_type": "code",
      "execution_count": null,
      "metadata": {
        "ExecuteTime": {
          "end_time": "2023-05-28T21:45:17.460748Z",
          "start_time": "2023-05-28T21:45:17.456098Z"
        },
        "id": "jhA-J6D1SZ7t"
      },
      "outputs": [],
      "source": [
        "l[:5]"
      ]
    },
    {
      "cell_type": "code",
      "execution_count": null,
      "metadata": {
        "ExecuteTime": {
          "end_time": "2023-05-28T21:45:52.772509Z",
          "start_time": "2023-05-28T21:45:52.767584Z"
        },
        "id": "ZgtKXGPiSZ7t"
      },
      "outputs": [],
      "source": [
        "l[-5:]"
      ]
    },
    {
      "cell_type": "code",
      "execution_count": null,
      "metadata": {
        "ExecuteTime": {
          "end_time": "2023-05-28T21:46:17.115748Z",
          "start_time": "2023-05-28T21:46:17.111553Z"
        },
        "id": "0r1xMP3bSZ7t"
      },
      "outputs": [],
      "source": [
        "l[10:12]"
      ]
    },
    {
      "cell_type": "code",
      "execution_count": null,
      "metadata": {
        "ExecuteTime": {
          "end_time": "2023-05-28T21:46:56.716456Z",
          "start_time": "2023-05-28T21:46:56.712009Z"
        },
        "id": "s5Boz2_dSZ7t"
      },
      "outputs": [],
      "source": [
        "l[12:8:-2]"
      ]
    },
    {
      "cell_type": "code",
      "execution_count": null,
      "metadata": {
        "ExecuteTime": {
          "end_time": "2023-05-28T21:47:14.065038Z",
          "start_time": "2023-05-28T21:47:14.059837Z"
        },
        "id": "bZtlsbxuSZ7t"
      },
      "outputs": [],
      "source": [
        "l[4:20:3]"
      ]
    },
    {
      "cell_type": "code",
      "execution_count": null,
      "metadata": {
        "ExecuteTime": {
          "end_time": "2023-05-28T21:47:33.826718Z",
          "start_time": "2023-05-28T21:47:33.821631Z"
        },
        "id": "PWRLhW3rSZ7u"
      },
      "outputs": [],
      "source": [
        "l[:10:2]"
      ]
    },
    {
      "cell_type": "code",
      "execution_count": null,
      "metadata": {
        "ExecuteTime": {
          "end_time": "2023-05-28T21:47:43.986142Z",
          "start_time": "2023-05-28T21:47:43.982063Z"
        },
        "id": "ygPtlGAiSZ7u"
      },
      "outputs": [],
      "source": [
        "l[2]"
      ]
    },
    {
      "cell_type": "markdown",
      "metadata": {
        "id": "iVLUP8-RSZ7u"
      },
      "source": [
        "### Кортежі\n",
        "\n",
        "Кортежі - це впорядковані колекції, дуже схожі на списки, але із суттєвою різницею: **вони незмінні**.  \n",
        "\n",
        "Це означає, що створений кортеж не можна далі змінювати:"
      ]
    },
    {
      "cell_type": "code",
      "execution_count": null,
      "metadata": {
        "ExecuteTime": {
          "end_time": "2023-05-28T21:48:19.306169Z",
          "start_time": "2023-05-28T21:48:19.303268Z"
        },
        "id": "mWpiXvLfSZ7u"
      },
      "outputs": [],
      "source": [
        "t = (3, 'Hello World', True, 3)"
      ]
    },
    {
      "cell_type": "code",
      "execution_count": null,
      "metadata": {
        "ExecuteTime": {
          "end_time": "2023-05-28T21:48:21.962834Z",
          "start_time": "2023-05-28T21:48:21.958424Z"
        },
        "id": "QB6OxszYSZ7u"
      },
      "outputs": [],
      "source": [
        "t"
      ]
    },
    {
      "cell_type": "code",
      "execution_count": null,
      "metadata": {
        "ExecuteTime": {
          "end_time": "2023-05-28T21:48:28.484190Z",
          "start_time": "2023-05-28T21:48:28.466896Z"
        },
        "id": "ZBGLYtk3SZ7u"
      },
      "outputs": [],
      "source": [
        "t.append(4)"
      ]
    },
    {
      "cell_type": "markdown",
      "metadata": {
        "id": "pLCuFDO3SZ7u"
      },
      "source": [
        "Але ми можемо конкатенувати кортежі (і тоді, як і з рядками, отримаємо новий кортеж):"
      ]
    },
    {
      "cell_type": "code",
      "execution_count": null,
      "metadata": {
        "ExecuteTime": {
          "end_time": "2023-05-28T21:49:00.540859Z",
          "start_time": "2023-05-28T21:49:00.536944Z"
        },
        "id": "nmaNfVxESZ7u"
      },
      "outputs": [],
      "source": [
        "t2 = t + (2,4,5)"
      ]
    },
    {
      "cell_type": "code",
      "execution_count": null,
      "metadata": {
        "ExecuteTime": {
          "end_time": "2023-05-28T21:49:12.095075Z",
          "start_time": "2023-05-28T21:49:12.089432Z"
        },
        "id": "TI937_O2SZ7u"
      },
      "outputs": [],
      "source": [
        "t2, t"
      ]
    },
    {
      "cell_type": "code",
      "execution_count": null,
      "metadata": {
        "ExecuteTime": {
          "end_time": "2023-05-28T21:52:51.081433Z",
          "start_time": "2023-05-28T21:52:51.076739Z"
        },
        "id": "2-fO-6N2SZ7u"
      },
      "outputs": [],
      "source": [
        "[(1, 2, 3), (1,2,4), (1,2,5), (1,2,3,4,5,6), (1,2,5)].count((1,2,5))"
      ]
    },
    {
      "cell_type": "code",
      "execution_count": null,
      "metadata": {
        "ExecuteTime": {
          "end_time": "2023-05-28T21:53:55.688027Z",
          "start_time": "2023-05-28T21:53:55.681751Z"
        },
        "id": "iOXMYAzuSZ7u"
      },
      "outputs": [],
      "source": [
        "[[1,2,3], [1,2,4], [1,2,5], [1,2,3,4,5,6], [1,2,5]].count([1,2,5])"
      ]
    },
    {
      "cell_type": "markdown",
      "metadata": {
        "id": "ILteUYRlSZ7u"
      },
      "source": [
        "Їх індексація працює таким самим чином, як і в списках:"
      ]
    },
    {
      "cell_type": "code",
      "execution_count": null,
      "metadata": {
        "ExecuteTime": {
          "end_time": "2023-05-28T21:54:21.709514Z",
          "start_time": "2023-05-28T21:54:21.705276Z"
        },
        "id": "q3HakbK8SZ7u"
      },
      "outputs": [],
      "source": [
        "t"
      ]
    },
    {
      "cell_type": "code",
      "execution_count": null,
      "metadata": {
        "ExecuteTime": {
          "end_time": "2023-05-28T21:54:17.838270Z",
          "start_time": "2023-05-28T21:54:17.834365Z"
        },
        "id": "U1v_UJZNSZ7v"
      },
      "outputs": [],
      "source": [
        "t[0]"
      ]
    },
    {
      "cell_type": "code",
      "execution_count": null,
      "metadata": {
        "ExecuteTime": {
          "end_time": "2023-05-28T21:54:30.737809Z",
          "start_time": "2023-05-28T21:54:30.734143Z"
        },
        "id": "hwluPO29SZ7v"
      },
      "outputs": [],
      "source": [
        "t[-1]"
      ]
    },
    {
      "cell_type": "code",
      "execution_count": null,
      "metadata": {
        "ExecuteTime": {
          "end_time": "2023-05-28T21:54:39.666145Z",
          "start_time": "2023-05-28T21:54:39.661255Z"
        },
        "id": "zej4_uo2SZ7v"
      },
      "outputs": [],
      "source": [
        "'Hello World' in t"
      ]
    },
    {
      "cell_type": "code",
      "execution_count": null,
      "metadata": {
        "ExecuteTime": {
          "end_time": "2023-05-28T21:54:50.225772Z",
          "start_time": "2023-05-28T21:54:50.221723Z"
        },
        "id": "G0M2pm3ESZ7v"
      },
      "outputs": [],
      "source": [
        "len(t)"
      ]
    },
    {
      "cell_type": "markdown",
      "metadata": {
        "id": "TVQVThmXSZ7v"
      },
      "source": [
        "### Словники\n",
        "\n",
        "Словники — це колекції, які зберігають значення під ключем, визначеним користувачем.  \n",
        "Ключ повинен бути незмінним об'єктом; ми зазвичай використовуємо рядки для ключів.  \n",
        "Словники є змінними і, що більш важливо, **невпорядкованими**."
      ]
    },
    {
      "cell_type": "code",
      "execution_count": null,
      "metadata": {
        "ExecuteTime": {
          "end_time": "2023-05-28T21:55:53.842012Z",
          "start_time": "2023-05-28T21:55:53.834805Z"
        },
        "id": "Vs9C5-ItSZ7v"
      },
      "outputs": [],
      "source": [
        "user = {\n",
        "    \"name\": \"Mary Smith\",\n",
        "    \"email\": \"mary@example.com\",\n",
        "    \"age\": 30,\n",
        "    \"subscribed\": True\n",
        "}"
      ]
    },
    {
      "cell_type": "code",
      "execution_count": null,
      "metadata": {
        "ExecuteTime": {
          "end_time": "2023-05-28T21:56:13.494543Z",
          "start_time": "2023-05-28T21:56:13.489678Z"
        },
        "id": "ww4Owfb4SZ7v"
      },
      "outputs": [],
      "source": [
        "user"
      ]
    },
    {
      "cell_type": "code",
      "execution_count": null,
      "metadata": {
        "ExecuteTime": {
          "end_time": "2023-05-28T21:56:37.448910Z",
          "start_time": "2023-05-28T21:56:37.442179Z"
        },
        "id": "wlLOWTq2SZ7v"
      },
      "outputs": [],
      "source": [
        "{1:'blue', 2:'green', 3:'white'}"
      ]
    },
    {
      "cell_type": "markdown",
      "metadata": {
        "id": "vA5l39tNSZ7v"
      },
      "source": [
        "Доступ до елемента здійснюється за допомогою ключа з використанням квадратних дужок:"
      ]
    },
    {
      "cell_type": "code",
      "execution_count": null,
      "metadata": {
        "ExecuteTime": {
          "end_time": "2023-05-28T21:57:13.772829Z",
          "start_time": "2023-05-28T21:57:13.769094Z"
        },
        "id": "o9O0JRznSZ7v"
      },
      "outputs": [],
      "source": [
        "user['email']"
      ]
    },
    {
      "cell_type": "code",
      "execution_count": null,
      "metadata": {
        "ExecuteTime": {
          "end_time": "2023-05-28T21:57:20.059342Z",
          "start_time": "2023-05-28T21:57:20.055032Z"
        },
        "id": "zyQeAILqSZ7v"
      },
      "outputs": [],
      "source": [
        "'age' in user"
      ]
    },
    {
      "cell_type": "code",
      "execution_count": null,
      "metadata": {
        "ExecuteTime": {
          "end_time": "2023-05-28T21:57:23.601225Z",
          "start_time": "2023-05-28T21:57:23.597218Z"
        },
        "id": "Eng8Gm3RSZ7v"
      },
      "outputs": [],
      "source": [
        "'last_name' in user"
      ]
    },
    {
      "cell_type": "code",
      "execution_count": null,
      "metadata": {
        "ExecuteTime": {
          "end_time": "2023-05-28T21:57:34.490829Z",
          "start_time": "2023-05-28T21:57:34.472292Z"
        },
        "id": "zXJdlqaKSZ7v"
      },
      "outputs": [],
      "source": [
        "user['last_name']"
      ]
    },
    {
      "cell_type": "markdown",
      "metadata": {
        "id": "qayqGCWPSZ7v"
      },
      "source": [
        "А отак можемо звернутись до всіх елементів словника:"
      ]
    },
    {
      "cell_type": "code",
      "execution_count": null,
      "metadata": {
        "ExecuteTime": {
          "end_time": "2023-05-28T21:58:20.440264Z",
          "start_time": "2023-05-28T21:58:20.432825Z"
        },
        "id": "qwxZrUqNSZ7w"
      },
      "outputs": [],
      "source": [
        "user.items()"
      ]
    },
    {
      "cell_type": "code",
      "execution_count": null,
      "metadata": {
        "ExecuteTime": {
          "end_time": "2023-05-28T21:58:50.422271Z",
          "start_time": "2023-05-28T21:58:50.417838Z"
        },
        "id": "DWJXvkmRSZ7w"
      },
      "outputs": [],
      "source": [
        "user.keys()"
      ]
    },
    {
      "cell_type": "code",
      "execution_count": null,
      "metadata": {
        "ExecuteTime": {
          "end_time": "2023-05-28T21:59:33.337192Z",
          "start_time": "2023-05-28T21:59:33.333275Z"
        },
        "id": "YeedSi_lSZ7w"
      },
      "outputs": [],
      "source": [
        "user.values()"
      ]
    },
    {
      "cell_type": "markdown",
      "metadata": {
        "id": "CmmdjQjASZ7w"
      },
      "source": [
        "##### Як створити словник\n",
        "Для створення слованика ми маємо створити пусту конструкцію, а потім для кожного ключа передати значення, яке йому відповідає.  \n",
        "Побудуємо словник, який містить інформацію про те, що в Аліси 5 яблук, в Боба - 3, а у Каті - 10."
      ]
    },
    {
      "cell_type": "code",
      "execution_count": null,
      "metadata": {
        "ExecuteTime": {
          "end_time": "2023-05-28T21:59:44.661857Z",
          "start_time": "2023-05-28T21:59:44.657382Z"
        },
        "id": "j9yUrUueSZ7w"
      },
      "outputs": [],
      "source": [
        "new_dict = {}"
      ]
    },
    {
      "cell_type": "code",
      "execution_count": null,
      "metadata": {
        "ExecuteTime": {
          "end_time": "2023-05-28T21:59:53.754411Z",
          "start_time": "2023-05-28T21:59:53.747752Z"
        },
        "id": "mZpMVijfSZ7w"
      },
      "outputs": [],
      "source": [
        "new_dict['Alice'] = 5\n",
        "new_dict['Bob'] = 3\n",
        "new_dict['Kate'] = 10"
      ]
    },
    {
      "cell_type": "code",
      "execution_count": null,
      "metadata": {
        "ExecuteTime": {
          "end_time": "2023-05-28T21:59:54.562189Z",
          "start_time": "2023-05-28T21:59:54.557520Z"
        },
        "id": "zf12hlWaSZ7w"
      },
      "outputs": [],
      "source": [
        "new_dict"
      ]
    },
    {
      "cell_type": "markdown",
      "metadata": {
        "id": "8u9eM-vnSZ7w"
      },
      "source": [
        "Також можна створити список наступними двома способами, передавши одразу всі дані на етапі створення:"
      ]
    },
    {
      "cell_type": "code",
      "execution_count": null,
      "metadata": {
        "ExecuteTime": {
          "end_time": "2023-05-28T22:01:05.345911Z",
          "start_time": "2023-05-28T22:01:05.343218Z"
        },
        "id": "xWXkMMmtSZ7w"
      },
      "outputs": [],
      "source": [
        "new_dict2 = {1: 5, 'Bob': 3, 'Kate': 10}"
      ]
    },
    {
      "cell_type": "code",
      "execution_count": null,
      "metadata": {
        "ExecuteTime": {
          "end_time": "2023-05-28T22:01:11.841149Z",
          "start_time": "2023-05-28T22:01:11.835383Z"
        },
        "id": "caP0tqAhSZ7w"
      },
      "outputs": [],
      "source": [
        "new_dict2"
      ]
    },
    {
      "cell_type": "code",
      "execution_count": null,
      "metadata": {
        "ExecuteTime": {
          "end_time": "2023-05-28T22:01:00.149560Z",
          "start_time": "2023-05-28T22:01:00.140429Z"
        },
        "id": "PXxSsa1DSZ7w"
      },
      "outputs": [],
      "source": [
        "new_dict3 = dict(Alice=5, Bob=3, Kate=10)"
      ]
    },
    {
      "cell_type": "code",
      "execution_count": null,
      "metadata": {
        "ExecuteTime": {
          "end_time": "2023-05-28T22:01:47.782530Z",
          "start_time": "2023-05-28T22:01:47.778614Z"
        },
        "id": "4eKq8POESZ7w"
      },
      "outputs": [],
      "source": [
        "new_dict2"
      ]
    },
    {
      "cell_type": "code",
      "execution_count": null,
      "metadata": {
        "ExecuteTime": {
          "end_time": "2023-05-28T22:02:00.337567Z",
          "start_time": "2023-05-28T22:02:00.332458Z"
        },
        "id": "hhFdWgu3SZ7x"
      },
      "outputs": [],
      "source": [
        "new_dict2['Tiffany'] = 12"
      ]
    },
    {
      "cell_type": "code",
      "execution_count": null,
      "metadata": {
        "ExecuteTime": {
          "end_time": "2023-05-28T22:02:09.861534Z",
          "start_time": "2023-05-28T22:02:09.856420Z"
        },
        "id": "-z2caeikSZ7x"
      },
      "outputs": [],
      "source": [
        "new_dict2"
      ]
    },
    {
      "cell_type": "markdown",
      "metadata": {
        "id": "9cYuokS2SZ7x"
      },
      "source": [
        "### Набори\n",
        "\n",
        "Набор — це невпорядкована колекція, унікальна характеристика якої полягає в тому, що вона містять лише **унікальні** елементи:"
      ]
    },
    {
      "cell_type": "code",
      "execution_count": null,
      "metadata": {
        "ExecuteTime": {
          "end_time": "2023-05-28T22:02:33.007049Z",
          "start_time": "2023-05-28T22:02:33.003051Z"
        },
        "id": "hX_U-KU4SZ7x"
      },
      "outputs": [],
      "source": [
        "s = {3, 1, 3, 7, 9, 1, 3, 1}"
      ]
    },
    {
      "cell_type": "code",
      "execution_count": null,
      "metadata": {
        "ExecuteTime": {
          "end_time": "2023-05-28T22:02:34.401304Z",
          "start_time": "2023-05-28T22:02:34.396888Z"
        },
        "id": "CDM2SWnRSZ7x"
      },
      "outputs": [],
      "source": [
        "s"
      ]
    },
    {
      "cell_type": "markdown",
      "metadata": {
        "id": "bLzAMNIKSZ7x"
      },
      "source": [
        "Додавання елементів виконується за допомогою методу `add`:"
      ]
    },
    {
      "cell_type": "code",
      "execution_count": null,
      "metadata": {
        "ExecuteTime": {
          "end_time": "2023-05-28T22:02:58.443438Z",
          "start_time": "2023-05-28T22:02:58.440461Z"
        },
        "id": "lbButKepSZ7x"
      },
      "outputs": [],
      "source": [
        "s.add(10)"
      ]
    },
    {
      "cell_type": "code",
      "execution_count": null,
      "metadata": {
        "ExecuteTime": {
          "end_time": "2023-05-28T22:03:00.366600Z",
          "start_time": "2023-05-28T22:03:00.362678Z"
        },
        "id": "0Wz2Hj57SZ7y"
      },
      "outputs": [],
      "source": [
        "s"
      ]
    },
    {
      "cell_type": "markdown",
      "metadata": {
        "id": "IGnrvLUSSZ7y"
      },
      "source": [
        "Видалення елементів можна виконати за допомогою `pop()`:"
      ]
    },
    {
      "cell_type": "code",
      "execution_count": null,
      "metadata": {
        "ExecuteTime": {
          "end_time": "2023-05-28T22:03:04.387156Z",
          "start_time": "2023-05-28T22:03:04.382365Z"
        },
        "id": "8pxZqRH2SZ7y"
      },
      "outputs": [],
      "source": [
        "s.pop()"
      ]
    },
    {
      "cell_type": "code",
      "execution_count": null,
      "metadata": {
        "ExecuteTime": {
          "end_time": "2023-05-28T22:03:21.365255Z",
          "start_time": "2023-05-28T22:03:21.361599Z"
        },
        "id": "AFVatIBtSZ7y"
      },
      "outputs": [],
      "source": [
        "s"
      ]
    },
    {
      "cell_type": "code",
      "execution_count": null,
      "metadata": {
        "ExecuteTime": {
          "end_time": "2023-05-28T22:04:18.667529Z",
          "start_time": "2023-05-28T22:04:18.661716Z"
        },
        "id": "hjt3ffeSSZ7y"
      },
      "outputs": [],
      "source": [
        "set([(1, 2, 3), (1,2,4), (1,2,5), (1,2,3,4,5,6), (1,2,5)])"
      ]
    },
    {
      "cell_type": "code",
      "execution_count": null,
      "metadata": {
        "ExecuteTime": {
          "end_time": "2023-05-28T22:05:34.763957Z",
          "start_time": "2023-05-28T22:05:34.759250Z"
        },
        "id": "_s9UQD7YSZ7y"
      },
      "outputs": [],
      "source": [
        "set([(1,2), (2,1), (1,2)])"
      ]
    },
    {
      "cell_type": "markdown",
      "metadata": {
        "id": "reQZMPx-SZ7y"
      },
      "source": [
        "## Control Flow\n",
        "\n",
        "Python підтримує всі найпоширеніші інструкції керування потоком (Control Flow) типу \"якщо ..., то ...\", а також ітерування по набору значень (цикли).\n",
        "\n",
        "**Важливо**: при використанні інструкцій керування потоком у нас будуть зʼявлятись вкладені блоки.   \n",
        "Аби виділити вкладені блоки в Python ми використовуємо **\"відступи\"**. Відступи - це елемент синтаксису.  \n",
        "Якщо ви пропустили десь виступ - це буде помилкою, про що вам повідомить компілятор.\n",
        "\n",
        "### If/else/elif statements"
      ]
    },
    {
      "cell_type": "markdown",
      "metadata": {
        "id": "BpFBnRD_SZ7y"
      },
      "source": [
        "![image.png](attachment:image.png)"
      ]
    },
    {
      "cell_type": "markdown",
      "metadata": {
        "ExecuteTime": {
          "end_time": "2023-05-28T17:15:39.489764Z",
          "start_time": "2023-05-28T17:15:39.481469Z"
        },
        "id": "q626QmGjSZ7y"
      },
      "source": [
        "Розглянемо приклад конструкції \"якщо ...  то\"."
      ]
    },
    {
      "cell_type": "code",
      "execution_count": null,
      "metadata": {
        "ExecuteTime": {
          "end_time": "2023-05-28T22:07:17.287465Z",
          "start_time": "2023-05-28T22:07:17.280639Z"
        },
        "id": "mI4tbchYSZ7z"
      },
      "outputs": [],
      "source": [
        "# Спробуйте змінити \"Python\" на щось інше\n",
        "# Але не прибираємо лапкИ.\n",
        "\n",
        "language = \"Python\"\n",
        "\n",
        "if language == \"Python\":\n",
        "    print(\"Попереду багато веселощів!\")\n",
        "else:\n",
        "    print(\"Ви впевнені?\")"
      ]
    },
    {
      "cell_type": "markdown",
      "metadata": {
        "id": "_F8fre4nSZ72"
      },
      "source": [
        "Розглянемо ще один приклад:"
      ]
    },
    {
      "cell_type": "code",
      "execution_count": null,
      "metadata": {
        "ExecuteTime": {
          "end_time": "2023-05-28T22:08:55.849349Z",
          "start_time": "2023-05-28T22:08:55.846868Z"
        },
        "id": "DO076kicSZ72"
      },
      "outputs": [],
      "source": [
        "days_subscribed = 28"
      ]
    },
    {
      "cell_type": "code",
      "execution_count": null,
      "metadata": {
        "ExecuteTime": {
          "end_time": "2023-05-28T22:08:56.064667Z",
          "start_time": "2023-05-28T22:08:56.057853Z"
        },
        "id": "_Qflf8qbSZ72"
      },
      "outputs": [],
      "source": [
        "if days_subscribed >= 30:\n",
        "    print(\"Loyal customer\")\n",
        "elif days_subscribed >= 15:\n",
        "    print(\"Halfway there\")\n",
        "elif days_subscribed >= 1:\n",
        "    print(\"Building confidence\")\n",
        "else:\n",
        "    print(\"Too early\")"
      ]
    },
    {
      "cell_type": "markdown",
      "metadata": {
        "id": "LRFNx4FuSZ72"
      },
      "source": [
        "### Цикл `for`\n",
        "\n",
        "У Python цикли `for` призначені для того, аби пройти один за одним елементи колекції."
      ]
    },
    {
      "cell_type": "code",
      "execution_count": null,
      "metadata": {
        "ExecuteTime": {
          "end_time": "2023-05-28T22:09:36.428930Z",
          "start_time": "2023-05-28T22:09:36.423322Z"
        },
        "id": "T8GXE2ApSZ72"
      },
      "outputs": [],
      "source": [
        "names = ['Monica', 'Ross', 'Chandler', 'Joey', 'Rachel']"
      ]
    },
    {
      "cell_type": "code",
      "execution_count": null,
      "metadata": {
        "ExecuteTime": {
          "end_time": "2023-05-28T22:10:10.055915Z",
          "start_time": "2023-05-28T22:10:10.052281Z"
        },
        "id": "Ti1LLfLySZ72"
      },
      "outputs": [],
      "source": [
        "for name in names:\n",
        "    print(name)"
      ]
    },
    {
      "cell_type": "markdown",
      "metadata": {
        "ExecuteTime": {
          "end_time": "2022-10-17T14:40:08.059953Z",
          "start_time": "2022-10-17T14:40:08.032339Z"
        },
        "id": "vn5n93ynSZ72"
      },
      "source": [
        "В циклі ще можуть бути команди `break`, `continue`"
      ]
    },
    {
      "cell_type": "code",
      "execution_count": null,
      "metadata": {
        "ExecuteTime": {
          "end_time": "2023-05-28T22:11:23.377815Z",
          "start_time": "2023-05-28T22:11:23.373041Z"
        },
        "id": "YWCIbM2ISZ72"
      },
      "outputs": [],
      "source": [
        "# спробуйте змінити літери, на яких зупиниться цикл\n",
        "# або змініть фразу, по якій ми ітеруємось\n",
        "\n",
        "for letter in 'London is a capital of Great Britain':\n",
        "\n",
        "    # цикл зупиниться, як тільки дійде до літери 'і'\n",
        "    # або 's'\n",
        "    if letter == 'і' or letter == 's':\n",
        "        break\n",
        "\n",
        "print('Поточна літера:', letter)"
      ]
    },
    {
      "cell_type": "code",
      "execution_count": null,
      "metadata": {
        "ExecuteTime": {
          "end_time": "2023-05-28T22:13:03.352367Z",
          "start_time": "2023-05-28T22:13:03.347584Z"
        },
        "id": "Ob9a20TbSZ72"
      },
      "outputs": [],
      "source": [
        "for letter in 'London is a capital of Great Britain':\n",
        "\n",
        "    # цикл зупиниться, як тільки наступною літерою буде та,\n",
        "    # якої немає в списку\n",
        "    print(letter)\n",
        "    if letter.lower() in ['l', 'o', 'n']:\n",
        "        print('Going forward!')\n",
        "        continue\n",
        "    else:\n",
        "        break\n",
        "\n",
        "print('Поточна літера:', letter)"
      ]
    },
    {
      "cell_type": "markdown",
      "metadata": {
        "id": "zg5h6FQsSZ72"
      },
      "source": [
        "### Цикл `while`\n",
        "\n",
        "Цикли While рідко використовуються в Python. У 99% випадків найкращим вибором є цикли For. Проте вони доступні та корисні в деяких ситуаціях:"
      ]
    },
    {
      "cell_type": "code",
      "execution_count": null,
      "metadata": {
        "ExecuteTime": {
          "end_time": "2023-05-28T22:14:39.859110Z",
          "start_time": "2023-05-28T22:14:39.856567Z"
        },
        "id": "BA5E8S2iSZ72"
      },
      "outputs": [],
      "source": [
        "count = 0"
      ]
    },
    {
      "cell_type": "code",
      "execution_count": null,
      "metadata": {
        "ExecuteTime": {
          "end_time": "2023-05-28T22:14:40.147545Z",
          "start_time": "2023-05-28T22:14:40.144230Z"
        },
        "id": "as6EDLeLSZ73"
      },
      "outputs": [],
      "source": [
        "while count < 3:\n",
        "    print('Current count is ', count)\n",
        "    print(\"Counting...\")\n",
        "    count += 1"
      ]
    },
    {
      "cell_type": "markdown",
      "metadata": {
        "id": "8CiSvfcjSZ73"
      },
      "source": [
        "Тут слід згадати ще один блок, `try/except`, але він знаходиться в розділі **_Exceptions_**, в наступній лекції."
      ]
    },
    {
      "cell_type": "markdown",
      "metadata": {
        "id": "-RnXvVs1SZ73"
      },
      "source": [
        "### Ітерування по колекціям"
      ]
    },
    {
      "cell_type": "markdown",
      "metadata": {
        "ExecuteTime": {
          "end_time": "2022-10-17T17:38:59.974162Z",
          "start_time": "2022-10-17T17:38:59.960348Z"
        },
        "id": "kPyzJ46zSZ73"
      },
      "source": [
        "#### Списки"
      ]
    },
    {
      "cell_type": "markdown",
      "metadata": {
        "id": "xnZCBHWaSZ73"
      },
      "source": [
        "На основі списку фруктів вам потрібен новий список, який містить лише фрукти з літерою «а» в назві."
      ]
    },
    {
      "cell_type": "code",
      "execution_count": null,
      "metadata": {
        "ExecuteTime": {
          "end_time": "2023-05-28T22:15:46.554653Z",
          "start_time": "2023-05-28T22:15:46.548956Z"
        },
        "id": "dXoHaMGaSZ73"
      },
      "outputs": [],
      "source": [
        "fruits = [\"apple\", \"banana\", \"cherry\", \"kiwi\", \"mango\"]\n",
        "newlist = []\n",
        "\n",
        "for x in fruits:\n",
        "    if \"a\" in x:\n",
        "        newlist.append(x)\n",
        "\n",
        "print(newlist)"
      ]
    },
    {
      "cell_type": "markdown",
      "metadata": {
        "ExecuteTime": {
          "end_time": "2022-10-17T17:40:33.150373Z",
          "start_time": "2022-10-17T17:40:33.146291Z"
        },
        "id": "FwR4C28HSZ73"
      },
      "source": [
        "##### List comprehension"
      ]
    },
    {
      "cell_type": "markdown",
      "metadata": {
        "ExecuteTime": {
          "end_time": "2022-10-17T17:40:36.255881Z",
          "start_time": "2022-10-17T17:40:36.239878Z"
        },
        "id": "RH6aEa40SZ73"
      },
      "source": [
        "**List comprehension** - пропонує коротший синтаксис, коли ви хочете створити новий список на основі значень існуючого списку.  \n",
        "Синтаксис:   \n",
        "\n",
        "`newlist = [expression for item in iterable if condition == True]`\n",
        "\n",
        "\n",
        "Зробимо те саме, що і до того, але використовуючи List comprehension.\n",
        "\n"
      ]
    },
    {
      "cell_type": "code",
      "execution_count": null,
      "metadata": {
        "ExecuteTime": {
          "end_time": "2023-05-28T22:17:12.550969Z",
          "start_time": "2023-05-28T22:17:12.542882Z"
        },
        "id": "XLqZrNn0SZ73"
      },
      "outputs": [],
      "source": [
        "newlist = [el for el in fruits if \"a\" in el]\n",
        "newlist"
      ]
    },
    {
      "cell_type": "markdown",
      "metadata": {
        "id": "ZyTnkAoXSZ73"
      },
      "source": [
        "Ще один приклад. Припустимо у нас є пропущені значення в наборі даних і вони позначені як None. Для подальших обчислень ми хочемо замінити ці значення на 0."
      ]
    },
    {
      "cell_type": "code",
      "execution_count": null,
      "metadata": {
        "ExecuteTime": {
          "end_time": "2023-05-28T22:17:28.820293Z",
          "start_time": "2023-05-28T22:17:28.817333Z"
        },
        "id": "pfj6y9PbSZ73"
      },
      "outputs": [],
      "source": [
        "data = [1, 2, 44, None, 12, 100, 3231, 2, None, 3, 4, 432, None, 8, 25]"
      ]
    },
    {
      "cell_type": "code",
      "execution_count": null,
      "metadata": {
        "ExecuteTime": {
          "end_time": "2023-05-28T22:17:40.733338Z",
          "start_time": "2023-05-28T22:17:40.728591Z"
        },
        "id": "Bftq2HYdSZ73"
      },
      "outputs": [],
      "source": [
        "[el if el != None else 0 for el in data ]"
      ]
    },
    {
      "cell_type": "code",
      "execution_count": null,
      "metadata": {
        "ExecuteTime": {
          "end_time": "2023-05-28T22:18:39.886723Z",
          "start_time": "2023-05-28T22:18:39.882155Z"
        },
        "id": "L9hEtlssSZ73"
      },
      "outputs": [],
      "source": [
        "newlist = []\n",
        "for el in data:\n",
        "    if el != None:\n",
        "        newlist.append(el)\n",
        "    else:\n",
        "        newlist.append(0)"
      ]
    },
    {
      "cell_type": "code",
      "execution_count": null,
      "metadata": {
        "ExecuteTime": {
          "end_time": "2023-05-28T22:18:42.300456Z",
          "start_time": "2023-05-28T22:18:42.296059Z"
        },
        "id": "P1d71WAJSZ73"
      },
      "outputs": [],
      "source": [
        "newlist"
      ]
    },
    {
      "cell_type": "markdown",
      "metadata": {
        "ExecuteTime": {
          "end_time": "2022-10-17T17:41:45.540363Z",
          "start_time": "2022-10-17T17:41:45.537872Z"
        },
        "id": "SecKCq9-SZ73"
      },
      "source": [
        "#### Dicts"
      ]
    },
    {
      "cell_type": "code",
      "execution_count": null,
      "metadata": {
        "ExecuteTime": {
          "end_time": "2023-05-28T22:19:35.676944Z",
          "start_time": "2023-05-28T22:19:35.669238Z"
        },
        "id": "UWw0ZtFRSZ73"
      },
      "outputs": [],
      "source": [
        "user"
      ]
    },
    {
      "cell_type": "code",
      "execution_count": null,
      "metadata": {
        "ExecuteTime": {
          "end_time": "2023-05-28T22:20:31.923302Z",
          "start_time": "2023-05-28T22:20:31.918362Z"
        },
        "id": "mssU6J3OSZ74"
      },
      "outputs": [],
      "source": [
        "'easter'.title()"
      ]
    },
    {
      "cell_type": "code",
      "execution_count": null,
      "metadata": {
        "ExecuteTime": {
          "end_time": "2023-05-28T22:21:37.021227Z",
          "start_time": "2023-05-28T22:21:37.017627Z"
        },
        "id": "eLdsGgObSZ74"
      },
      "outputs": [],
      "source": [
        "for key in user:\n",
        "#     print('Current key is ', key)\n",
        "    print(key.title(), '=>', user[key])"
      ]
    },
    {
      "cell_type": "code",
      "execution_count": null,
      "metadata": {
        "ExecuteTime": {
          "end_time": "2023-05-28T22:21:32.701845Z",
          "start_time": "2023-05-28T22:21:32.697920Z"
        },
        "id": "77jv1twgSZ74"
      },
      "outputs": [],
      "source": [
        "for key, value in user.items():\n",
        "    print(key.title(), '=>', value)"
      ]
    },
    {
      "cell_type": "markdown",
      "metadata": {
        "id": "g_n0CAoLSZ74"
      },
      "source": [
        "#### Strings"
      ]
    },
    {
      "cell_type": "markdown",
      "metadata": {
        "id": "yzpjtOiJSZ74"
      },
      "source": [
        "Ітерація по рядку:"
      ]
    },
    {
      "cell_type": "code",
      "execution_count": null,
      "metadata": {
        "ExecuteTime": {
          "end_time": "2023-05-28T22:22:04.052973Z",
          "start_time": "2023-05-28T22:22:04.048697Z"
        },
        "id": "YXHT1ijISZ74"
      },
      "outputs": [],
      "source": [
        "s = \"Python\"\n",
        "for i in s:\n",
        "    print(i)"
      ]
    },
    {
      "cell_type": "code",
      "execution_count": null,
      "metadata": {
        "id": "x1mkz8-TSZ74"
      },
      "outputs": [],
      "source": []
    }
  ],
  "metadata": {
    "kernelspec": {
      "display_name": "Python 3 (ipykernel)",
      "language": "python",
      "name": "python3"
    },
    "language_info": {
      "codemirror_mode": {
        "name": "ipython",
        "version": 3
      },
      "file_extension": ".py",
      "mimetype": "text/x-python",
      "name": "python",
      "nbconvert_exporter": "python",
      "pygments_lexer": "ipython3",
      "version": "3.10.4"
    },
    "toc": {
      "base_numbering": 1,
      "nav_menu": {},
      "number_sections": true,
      "sideBar": true,
      "skip_h1_title": false,
      "title_cell": "Table of Contents",
      "title_sidebar": "Contents",
      "toc_cell": false,
      "toc_position": {
        "height": "calc(100% - 180px)",
        "left": "10px",
        "top": "150px",
        "width": "286.719px"
      },
      "toc_section_display": true,
      "toc_window_display": false
    },
    "colab": {
      "provenance": [],
      "include_colab_link": true
    }
  },
  "nbformat": 4,
  "nbformat_minor": 0
}